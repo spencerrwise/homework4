{
 "cells": [
  {
   "cell_type": "markdown",
   "metadata": {},
   "source": [
    "# Homework 4"
   ]
  },
  {
   "cell_type": "markdown",
   "metadata": {},
   "source": [
    "### Costa Rican Household Poverty Level Prediction (Kaggle Competition)"
   ]
  },
  {
   "cell_type": "markdown",
   "metadata": {},
   "source": [
    "#### By: Spencer Wise"
   ]
  },
  {
   "cell_type": "markdown",
   "metadata": {},
   "source": [
    "The goal of the Costa Rican Household Poverty Level Prediction contest is to develop a machine learning model that can predict the poverty level of households using both individual and household characteristics. Many social programs have a hard time making sure the right people are given the right amount of aid, and it’s especially tricky when a program focuses on the poorest segment of the population. The world’s poorest typically can’t provide the necessary income and expense records to prove that they qualify.  Costa Rica is just one of many countries that faces this same problem of assessing social need.\n",
    "\n",
    "In this notebook, we will do our best to come up with a complete machine learning solution to this problem. First, we will get introduced to the problem, then explore the dataset, clean the dataset, work on feature engineering, try out multiple machine learning models, optimize the models, and finally, inspect the outputs of the model and draw conclusions."
   ]
  },
  {
   "cell_type": "markdown",
   "metadata": {},
   "source": [
    "### Data Overview and Problem"
   ]
  },
  {
   "cell_type": "markdown",
   "metadata": {},
   "source": [
    "The data for this competition is provided in a training set file and a test set file: `train.csv` and `test.csv`. The training set has 9557 rows and 143 columns, and the testing set has 23856 rows and 142 columns. Each row represents one individual and each column is a feature, either unique to the individual, or for the household of that individual. The training set has one additional column, `Target`, which represents the poverty level on a scale from 1-4. A value of 1 is the most extreme poverty, while a value of 4 represents non vulnerable households. This is a multi-class classification machine learning problem with 4 classes."
   ]
  },
  {
   "cell_type": "markdown",
   "metadata": {},
   "source": [
    "### Objective"
   ]
  },
  {
   "cell_type": "markdown",
   "metadata": {},
   "source": [
    "The objective is to predict poverty on a household level. We are given data on the individual level with each individual having unique features but also information about their household. In order to create a dataset for the task, we'll have to perform some aggregations of the individual data for each household because according to the competition page, \"ONLY the heads of household are used in scoring\" which means we want to predict poverty on a household basis."
   ]
  },
  {
   "cell_type": "markdown",
   "metadata": {},
   "source": [
    "To begin, let's start by importing the necessary packages and reading in the data!"
   ]
  },
  {
   "cell_type": "markdown",
   "metadata": {},
   "source": [
    "### Module Imports\n",
    "We'll use a familiar stack of data science libraries: `Pandas` , `numpy`, `matplotlib`, `seaborn`, and `sklearn` for modeling. We'll also bring in `imblearn` to handle some imbalanced data later on."
   ]
  },
  {
   "cell_type": "code",
   "execution_count": 1,
   "metadata": {},
   "outputs": [],
   "source": [
    "# Pandas for data loading, manipulation etc.\n",
    "import pandas as pd\n",
    "\n",
    "# Numeric functions\n",
    "import numpy as np\n",
    "from scipy import stats\n",
    "from scipy.stats import norm\n",
    "from collections import OrderedDict\n",
    "\n",
    "# Plotting and visualization\n",
    "import matplotlib.pyplot as plt\n",
    "import seaborn as sns\n",
    "\n",
    "# Plotting defaults\n",
    "%matplotlib inline\n",
    "plt.style.use('fivethirtyeight')\n",
    "\n",
    "# Modeling\n",
    "from sklearn.linear_model import SGDRegressor, ElasticNetCV, LogisticRegression\n",
    "from sklearn import datasets, linear_model\n",
    "from sklearn.ensemble import RandomForestClassifier, GradientBoostingClassifier\n",
    "from sklearn.neighbors import KNeighborsClassifier\n",
    "from sklearn.svm import SVC\n",
    "from sklearn.naive_bayes import GaussianNB\n",
    "from sklearn.preprocessing import StandardScaler\n",
    "from sklearn.model_selection import cross_val_score, train_test_split, RandomizedSearchCV, GridSearchCV\n",
    "from sklearn.metrics import f1_score, roc_curve, auc, classification_report, confusion_matrix, accuracy_score, precision_recall_fscore_support\n",
    "from sklearn.tree import DecisionTreeClassifier\n",
    "\n",
    "# Imbalanced data\n",
    "from imblearn.over_sampling import RandomOverSampler\n",
    "\n",
    "# Ignore deprication warnings\n",
    "import warnings\n",
    "warnings.filterwarnings('ignore')"
   ]
  },
  {
   "cell_type": "markdown",
   "metadata": {},
   "source": [
    "### Load Data"
   ]
  },
  {
   "cell_type": "markdown",
   "metadata": {},
   "source": [
    "Here we are going to first load the training and test datasets into pandas dataframes."
   ]
  },
  {
   "cell_type": "code",
   "execution_count": 2,
   "metadata": {},
   "outputs": [],
   "source": [
    "# Loading datasets into separate pandas dataframes\n",
    "train = pd.read_csv(r\"C:\\Users\\Spencer\\Dropbox\\School\\Fall 2018\\Machine Learning\\Projects\\Homework_4\\train.csv\", encoding=\"latin1\")\n",
    "test = pd.read_csv(r\"C:\\Users\\Spencer\\Dropbox\\School\\Fall 2018\\Machine Learning\\Projects\\Homework_4\\test.csv\", encoding=\"latin1\")"
   ]
  },
  {
   "cell_type": "code",
   "execution_count": 3,
   "metadata": {},
   "outputs": [
    {
     "name": "stdout",
     "output_type": "stream",
     "text": [
      "(9557, 143)\n",
      "(23856, 142)\n"
     ]
    }
   ],
   "source": [
    "# Print the shape of the test and training datasets\n",
    "print(train.shape)\n",
    "print(test.shape)"
   ]
  },
  {
   "cell_type": "markdown",
   "metadata": {},
   "source": [
    "One interesting thing to note right off the bat is that the training dataset has one more column than the test dataset. That is because the train dataset includes our target value). Let's take a closer look by previewing our training data."
   ]
  },
  {
   "cell_type": "code",
   "execution_count": 4,
   "metadata": {},
   "outputs": [
    {
     "name": "stdout",
     "output_type": "stream",
     "text": [
      "<class 'pandas.core.frame.DataFrame'>\n",
      "RangeIndex: 9557 entries, 0 to 9556\n",
      "Columns: 143 entries, Id to Target\n",
      "dtypes: float64(8), int64(130), object(5)\n",
      "memory usage: 10.4+ MB\n"
     ]
    }
   ],
   "source": [
    "# Preview the data\n",
    "pd.options.display.max_columns = 150\n",
    "train.head()\n",
    "train.info()"
   ]
  },
  {
   "cell_type": "markdown",
   "metadata": {},
   "source": [
    "As we look at the above training data, we can see that we have a mix of variables that are mostly integers (130), some floats (8), and a handful of categorical variables (5). \n",
    "\n",
    "These are useful things to know because we now know that we will need to replace those categorical variables to dummy variables before we can model. "
   ]
  },
  {
   "cell_type": "markdown",
   "metadata": {},
   "source": [
    "## Learn the Data"
   ]
  },
  {
   "cell_type": "markdown",
   "metadata": {},
   "source": [
    "Now that we've read in our data and have a basic idea of the shape of our dataset, we'll want to learn as much as we can about the data. The things that we will focus on in this section are:\n",
    "\n",
    "- Knowing which variables are the core variables in the dataset\n",
    "- Knowing the rest of the variables in the dataset\n",
    "- Knowing if there are missing variables\n",
    "\n",
    "**Core Data**\n",
    "\n",
    "Because the data contains 142 total variables, we'll focus on learning as much as we can about the core data fields outlined by the Inter-American Development Bank. The core variables are:"
   ]
  },
  {
   "cell_type": "markdown",
   "metadata": {},
   "source": [
    "- `Id`: a unique identifier for each row.\n",
    "- `Target`: the target is an ordinal variable indicating groups of income levels. \n",
    "    - 1 = extreme poverty \n",
    "    - 2 = moderate poverty \n",
    "    - 3 = vulnerable households \n",
    "    - 4 = non vulnerable households\n",
    "- `idhogar`: this is a unique identifier for each household. This can be used to create household-wide features, etc. All rows in a given household will have a matching value for this identifier.\n",
    "- `parentesco1`: indicates if this person is the head of the household.\n",
    "\n",
    "**Rest of Variables and Definition**\n",
    "\n",
    "- `v2a1`, Monthly rent payment\n",
    "- `hacdor`, =1 Overcrowding by bedrooms\n",
    "- `rooms`,  number of all rooms in the house\n",
    "- `hacapo`, =1 Overcrowding by rooms\n",
    "- `v14a`, =1 has bathroom in the household\n",
    "- `refrig`, =1 if the household has refrigerator\n",
    "- `v18q`, owns a tablet\n",
    "- `v18q1`, number of tablets household owns\n",
    "- `r4h1`, Males younger than 12 years of age\n",
    "- `r4h2`, Males 12 years of age and older\n",
    "- `r4h3`, Total males in the household\n",
    "- `r4m1`, Females younger than 12 years of age\n",
    "- `r4m2`, Females 12 years of age and older\n",
    "- `r4m3`, Total females in the household\n",
    "- `r4t1`, persons younger than 12 years of age\n",
    "- `r4t2`, persons 12 years of age and older\n",
    "- `r4t3`, Total persons in the household\n",
    "- `tamhog`, size of the household\n",
    "- `tamviv`, number of persons living in the household\n",
    "- `escolari`, years of schooling\n",
    "- `rez_esc`, Years behind in school\n",
    "- `hhsize`, household size\n",
    "- `paredblolad`, =1 if predominant material on the outside wall is block or brick\n",
    "- `paredzocalo`, \"=1 if predominant material on the outside wall is socket (wood,  zinc or absbesto\"\n",
    "- `paredpreb`, =1 if predominant material on the outside wall is prefabricated or cement\n",
    "- `pareddes`, =1 if predominant material on the outside wall is waste material\n",
    "- `paredmad`, =1 if predominant material on the outside wall is wood\n",
    "- `paredzinc`, =1 if predominant material on the outside wall is zink\n",
    "- `paredfibras`, =1 if predominant material on the outside wall is natural fibers\n",
    "- `paredother`, =1 if predominant material on the outside wall is other\n",
    "- `pisomoscer`, \"=1 if predominant material on the floor is mosaic,  ceramic,  terrazo\"\n",
    "- `pisocemento`, =1 if predominant material on the floor is cement\n",
    "- `pisoother`, =1 if predominant material on the floor is other\n",
    "- `pisonatur`, =1 if predominant material on the floor is  natural material\n",
    "- `pisonotiene`, =1 if no floor at the household\n",
    "- `pisomadera`, =1 if predominant material on the floor is wood\n",
    "- `techozinc`, =1 if predominant material on the roof is metal foil or zink\n",
    "- `techoentrepiso`, \"=1 if predominant material on the roof is fiber cement,  mezzanine \"\n",
    "- `techocane`, =1 if predominant material on the roof is natural fibers\n",
    "- `techootro`, =1 if predominant material on the roof is other\n",
    "- `cielorazo`, =1 if the house has ceiling\n",
    "- `abastaguadentro`, =1 if water provision inside the dwelling\n",
    "- `abastaguafuera`, =1 if water provision outside the dwelling\n",
    "- `abastaguano`, =1 if no water provision\n",
    "- `public`, \"=1 electricity from CNFL,  ICE,  ESPH/JASEC\"\n",
    "- `planpri`, =1 electricity from private plant\n",
    "- `noelec`, =1 no electricity in the dwelling\n",
    "- `coopele`, =1 electricity from cooperative\n",
    "- `sanitario1`, =1 no toilet in the dwelling\n",
    "- `sanitario2`, =1 toilet connected to sewer or cesspool\n",
    "- `sanitario3`, =1 toilet connected to  septic tank\n",
    "- `sanitario5`, =1 toilet connected to black hole or letrine\n",
    "- `sanitario6`, =1 toilet connected to other system\n",
    "- `energcocinar1`, =1 no main source of energy used for cooking (no kitchen)\n",
    "- `energcocinar2`, =1 main source of energy used for cooking electricity\n",
    "- `energcocinar3`, =1 main source of energy used for cooking gas\n",
    "- `energcocinar4`, =1 main source of energy used for cooking wood charcoal\n",
    "- `elimbasu1`, =1 if rubbish disposal mainly by tanker truck\n",
    "- `elimbasu2`, =1 if rubbish disposal mainly by botan hollow or buried\n",
    "- `elimbasu3`, =1 if rubbish disposal mainly by burning\n",
    "- `elimbasu4`, =1 if rubbish disposal mainly by throwing in an unoccupied space\n",
    "- `elimbasu5`, \"=1 if rubbish disposal mainly by throwing in river,  creek or sea\"\n",
    "- `elimbasu6`, =1 if rubbish disposal mainly other\n",
    "- `epared1`, =1 if walls are bad\n",
    "- `epared2`, =1 if walls are regular\n",
    "- `epared3`, =1 if walls are good\n",
    "- `etecho1`, =1 if roof are bad\n",
    "- `etecho2`, =1 if roof are regular\n",
    "- `etecho3`, =1 if roof are good\n",
    "- `eviv1`, =1 if floor are bad\n",
    "- `eviv2`, =1 if floor are regular\n",
    "- `eviv3`, =1 if floor are good\n",
    "- `dis`, =1 if disable person\n",
    "- `male`, =1 if male\n",
    "- `female`, =1 if female\n",
    "- `estadocivil1`, =1 if less than 10 years old\n",
    "- `estadocivil2`, =1 if free or coupled uunion\n",
    "- `estadocivil3`, =1 if married\n",
    "- `estadocivil4`, =1 if divorced\n",
    "- `estadocivil5`, =1 if separated\n",
    "- `estadocivil6`, =1 if widow/er\n",
    "- `estadocivil7`, =1 if single\n",
    "- `parentesco1`, =1 if household head\n",
    "- `parentesco2`, =1 if spouse/partner\n",
    "- `parentesco3`, =1 if son/doughter\n",
    "- `parentesco4`, =1 if stepson/doughter\n",
    "- `parentesco5`, =1 if son/doughter in law\n",
    "- `parentesco6`, =1 if grandson/doughter\n",
    "- `parentesco7`, =1 if mother/father\n",
    "- `parentesco8`, =1 if father/mother in law\n",
    "- `parentesco9`, =1 if brother/sister\n",
    "- `parentesco10`, =1 if brother/sister in law\n",
    "- `parentesco11`, =1 if other family member\n",
    "- `parentesco12`, =1 if other non family member\n",
    "- `idhogar`, Household level identifier\n",
    "- `hogar_nin`, Number of children 0 to 19 in household\n",
    "- `hogar_adul`, Number of adults in household\n",
    "- `hogar_mayor`, # of individuals 65+ in the household\n",
    "- `hogar_total`, # of total individuals in the household\n",
    "- `dependency`, Dependency rate, calculated = (number of members of the household younger than 19 or older than 64)/(number of member of household between 19 and 64)\n",
    "- `edjefe`, years of education of male head of household, based on the interaction of escolari (years of education), head of household and gender, yes=1 and no=0\n",
    "- `edjefa`, years of education of female head of household, based on the interaction of escolari (years of education), head of household and gender, yes=1 and no=0\n",
    "- `meaneduc`,average years of education for adults (18+)\n",
    "- `instlevel1`, =1 no level of education\n",
    "- `instlevel2`, =1 incomplete primary\n",
    "- `instlevel3`, =1 complete primary\n",
    "- `instlevel4`, =1 incomplete academic secondary level\n",
    "- `instlevel5`, =1 complete academic secondary level\n",
    "- `instlevel6`, =1 incomplete technical secondary level\n",
    "- `instlevel7`, =1 complete technical secondary level\n",
    "- `instlevel8`, =1 undergraduate and higher education\n",
    "- `instlevel9`, =1 postgraduate higher education\n",
    "- `bedrooms`, number of bedrooms\n",
    "- `overcrowding`, # persons per room\n",
    "- `tipovivi1`, =1 own and fully paid house\n",
    "- `tipovivi2`, \"=1 own,  paying in installments\"\n",
    "- `tipovivi3`, =1 rented\n",
    "- `tipovivi4`, =1 precarious\n",
    "- `tipovivi5`, \"=1 other(assigned,  borrowed)\"\n",
    "- `computer`, =1 if the household has notebook or desktop computer\n",
    "- `television`, =1 if the household has TV\n",
    "- `mobilephone`, =1 if mobile phone\n",
    "- `qmobilephone`, # of mobile phones\n",
    "- `lugar1`, =1 region Central\n",
    "- `lugar2`, =1 region Chorotega\n",
    "- `lugar3`, =1 region PacÃƒÂ­fico central\n",
    "- `lugar4`, =1 region Brunca\n",
    "- `lugar5`, =1 region Huetar AtlÃƒÂ¡ntica\n",
    "- `lugar6`, =1 region Huetar Norte\n",
    "- `area1`, =1 zona urbana\n",
    "- `area2`, =2 zona rural\n",
    "- `age`, Age in years\n",
    "- `SQBescolari`, escolari squared\n",
    "- `SQBage`, age squared\n",
    "- `SQBhogar_total`, hogar_total squared\n",
    "- `SQBedjefe`, edjefe squared\n",
    "- `SQBhogar_nin`, hogar_nin squared\n",
    "- `SQBovercrowding`, overcrowding squared\n",
    "- `SQBdependency`, dependency squared\n",
    "- `SQBmeaned`, square of the mean years of education of adults (>=18) in the household\n",
    "- `agesq`, Age squared"
   ]
  },
  {
   "cell_type": "markdown",
   "metadata": {},
   "source": [
    "## Clean Data"
   ]
  },
  {
   "cell_type": "markdown",
   "metadata": {},
   "source": [
    "Now that we know a little bit more about the data, it is time to clean it. But first, we need to know what needs to be cleaned. As was stated above, we have some categorical variables that will need to be changed. We will also look for any missing values we need to fill in and make sure any outliers have been taken care of. "
   ]
  },
  {
   "cell_type": "markdown",
   "metadata": {},
   "source": [
    "### Categorical Variables"
   ]
  },
  {
   "cell_type": "markdown",
   "metadata": {},
   "source": [
    "We know we have some categorical variables in our dataset. Let's take a closer look at what they are."
   ]
  },
  {
   "cell_type": "code",
   "execution_count": 5,
   "metadata": {},
   "outputs": [
    {
     "data": {
      "text/html": [
       "<div>\n",
       "<style scoped>\n",
       "    .dataframe tbody tr th:only-of-type {\n",
       "        vertical-align: middle;\n",
       "    }\n",
       "\n",
       "    .dataframe tbody tr th {\n",
       "        vertical-align: top;\n",
       "    }\n",
       "\n",
       "    .dataframe thead th {\n",
       "        text-align: right;\n",
       "    }\n",
       "</style>\n",
       "<table border=\"1\" class=\"dataframe\">\n",
       "  <thead>\n",
       "    <tr style=\"text-align: right;\">\n",
       "      <th></th>\n",
       "      <th>Id</th>\n",
       "      <th>idhogar</th>\n",
       "      <th>dependency</th>\n",
       "      <th>edjefe</th>\n",
       "      <th>edjefa</th>\n",
       "    </tr>\n",
       "  </thead>\n",
       "  <tbody>\n",
       "    <tr>\n",
       "      <th>0</th>\n",
       "      <td>ID_279628684</td>\n",
       "      <td>21eb7fcc1</td>\n",
       "      <td>no</td>\n",
       "      <td>10</td>\n",
       "      <td>no</td>\n",
       "    </tr>\n",
       "    <tr>\n",
       "      <th>1</th>\n",
       "      <td>ID_f29eb3ddd</td>\n",
       "      <td>0e5d7a658</td>\n",
       "      <td>8</td>\n",
       "      <td>12</td>\n",
       "      <td>no</td>\n",
       "    </tr>\n",
       "    <tr>\n",
       "      <th>2</th>\n",
       "      <td>ID_68de51c94</td>\n",
       "      <td>2c7317ea8</td>\n",
       "      <td>8</td>\n",
       "      <td>no</td>\n",
       "      <td>11</td>\n",
       "    </tr>\n",
       "    <tr>\n",
       "      <th>3</th>\n",
       "      <td>ID_d671db89c</td>\n",
       "      <td>2b58d945f</td>\n",
       "      <td>yes</td>\n",
       "      <td>11</td>\n",
       "      <td>no</td>\n",
       "    </tr>\n",
       "    <tr>\n",
       "      <th>4</th>\n",
       "      <td>ID_d56d6f5f5</td>\n",
       "      <td>2b58d945f</td>\n",
       "      <td>yes</td>\n",
       "      <td>11</td>\n",
       "      <td>no</td>\n",
       "    </tr>\n",
       "  </tbody>\n",
       "</table>\n",
       "</div>"
      ],
      "text/plain": [
       "             Id    idhogar dependency edjefe edjefa\n",
       "0  ID_279628684  21eb7fcc1         no     10     no\n",
       "1  ID_f29eb3ddd  0e5d7a658          8     12     no\n",
       "2  ID_68de51c94  2c7317ea8          8     no     11\n",
       "3  ID_d671db89c  2b58d945f        yes     11     no\n",
       "4  ID_d56d6f5f5  2b58d945f        yes     11     no"
      ]
     },
     "execution_count": 5,
     "metadata": {},
     "output_type": "execute_result"
    }
   ],
   "source": [
    "# Display all categorical variables in our training dataset\n",
    "train.select_dtypes(include = 'object').head()"
   ]
  },
  {
   "cell_type": "markdown",
   "metadata": {},
   "source": [
    "We have a total of **5** categorical variables:\n",
    "- `Id`\n",
    "- `idhogar`\n",
    "- `dependency`\n",
    "- `edjefe`\n",
    "- `edjefa`\n",
    "\n",
    "`Id` doesn't give us anything useful, so we can go ahead and drop that. `idhogar` is a unique identifier for each household. We'll go ahead and drop that as well. The three variables `dependency`, `edjefe`, and `edjefa` all contain a mixture of integers as well as some strings: 'yes' and 'no'. \n",
    "\n",
    "- `dependency`, Dependency rate, calculated = (number of members of the household younger than 19 or older than 64)/(number of member of household between 19 and 64)\n",
    "- `edjefe`, years of education of male head of household, based on the interaction of escolari (years of education), head of household and gender, yes=1 and no=0\n",
    "- `edjefa`, years of education of female head of household, based on the interaction of escolari (years of education), head of household and gender, yes=1 and no=0\n",
    "\n",
    "After looking at the definitions from the [documentation](https://www.kaggle.com/c/costa-rican-household-poverty-prediction/data) for these three variables, we can go ahead and change the **'yes' to 1** and **'no' to 0**. "
   ]
  },
  {
   "cell_type": "code",
   "execution_count": 6,
   "metadata": {},
   "outputs": [],
   "source": [
    "# Drop Id column\n",
    "train = train.drop('Id', axis = 1)\n",
    "\n",
    "# Replace strings with binary\n",
    "categ_cols = ['dependency', 'edjefe', 'edjefa']\n",
    "for col in categ_cols:\n",
    "    train.loc[(train[col] == 'yes'), col]=1\n",
    "    train.loc[(train[col] == 'no'), col]=0\n",
    "train[categ_cols] = train[categ_cols].apply(pd.to_numeric)"
   ]
  },
  {
   "cell_type": "code",
   "execution_count": 7,
   "metadata": {},
   "outputs": [],
   "source": [
    "# Drop idhogar column\n",
    "train = train.drop('idhogar', axis = 1)"
   ]
  },
  {
   "cell_type": "markdown",
   "metadata": {},
   "source": [
    "### Missing Values"
   ]
  },
  {
   "cell_type": "markdown",
   "metadata": {},
   "source": [
    "In order to fix any missing values, we first need to know which columns are missing data. "
   ]
  },
  {
   "cell_type": "code",
   "execution_count": 8,
   "metadata": {},
   "outputs": [
    {
     "name": "stdout",
     "output_type": "stream",
     "text": [
      "Columns with missing values:\n"
     ]
    },
    {
     "data": {
      "text/plain": [
       "Index(['v2a1', 'v18q1', 'rez_esc', 'meaneduc', 'SQBmeaned'], dtype='object')"
      ]
     },
     "execution_count": 8,
     "metadata": {},
     "output_type": "execute_result"
    }
   ],
   "source": [
    "# Displaying all the columns with missing values\n",
    "print (\"Columns with missing values:\")\n",
    "missing = train.columns[train.isna().sum()!=0]\n",
    "missing"
   ]
  },
  {
   "cell_type": "markdown",
   "metadata": {},
   "source": [
    "We have **5** columns with missing values, which isn't terrible. But to get a better idea of how much data we are missing, let's take a look at the percentage of missing values in each of these columns."
   ]
  },
  {
   "cell_type": "code",
   "execution_count": 9,
   "metadata": {},
   "outputs": [
    {
     "data": {
      "text/html": [
       "<div>\n",
       "<style scoped>\n",
       "    .dataframe tbody tr th:only-of-type {\n",
       "        vertical-align: middle;\n",
       "    }\n",
       "\n",
       "    .dataframe tbody tr th {\n",
       "        vertical-align: top;\n",
       "    }\n",
       "\n",
       "    .dataframe thead th {\n",
       "        text-align: right;\n",
       "    }\n",
       "</style>\n",
       "<table border=\"1\" class=\"dataframe\">\n",
       "  <thead>\n",
       "    <tr style=\"text-align: right;\">\n",
       "      <th></th>\n",
       "      <th>total</th>\n",
       "      <th>percent</th>\n",
       "    </tr>\n",
       "  </thead>\n",
       "  <tbody>\n",
       "    <tr>\n",
       "      <th>rez_esc</th>\n",
       "      <td>7928</td>\n",
       "      <td>0.829549</td>\n",
       "    </tr>\n",
       "    <tr>\n",
       "      <th>v18q1</th>\n",
       "      <td>7342</td>\n",
       "      <td>0.768233</td>\n",
       "    </tr>\n",
       "    <tr>\n",
       "      <th>v2a1</th>\n",
       "      <td>6860</td>\n",
       "      <td>0.717798</td>\n",
       "    </tr>\n",
       "    <tr>\n",
       "      <th>SQBmeaned</th>\n",
       "      <td>5</td>\n",
       "      <td>0.000523</td>\n",
       "    </tr>\n",
       "    <tr>\n",
       "      <th>meaneduc</th>\n",
       "      <td>5</td>\n",
       "      <td>0.000523</td>\n",
       "    </tr>\n",
       "  </tbody>\n",
       "</table>\n",
       "</div>"
      ],
      "text/plain": [
       "           total   percent\n",
       "rez_esc     7928  0.829549\n",
       "v18q1       7342  0.768233\n",
       "v2a1        6860  0.717798\n",
       "SQBmeaned      5  0.000523\n",
       "meaneduc       5  0.000523"
      ]
     },
     "execution_count": 9,
     "metadata": {},
     "output_type": "execute_result"
    }
   ],
   "source": [
    "# Determine the number of missing values in each column\n",
    "train_na = pd.DataFrame(train.isnull().sum()).rename(columns = {0: 'total'})\n",
    "\n",
    "# Create a percentage missing for the variables\n",
    "train_na['percent'] = train_na['total'] / len(train)\n",
    "\n",
    "# Display what percentage of each of the 5 variables is missing\n",
    "train_na.sort_values('percent', ascending = False).head(5)"
   ]
  },
  {
   "cell_type": "markdown",
   "metadata": {},
   "source": [
    "Of the 5 columns with missing values, `rez_esc`, `v18q1`, and `v2a1` have the most meaningful percentage of missing data. `SQBmeaned` and `meaneduc` are only missing .05%. Let's think about why these columns might be missing data. "
   ]
  },
  {
   "cell_type": "markdown",
   "metadata": {},
   "source": [
    "Columns with missing values:\n",
    "- `v2a1` -**monthly rent**\n",
    "    - Monthly rent payment may be missing values if the family owns the home. We'll check on this below. If that's the reason, we can go ahead and change their monthly rent to 0. \n",
    "- `v18q1` - **number of tablets**\n",
    "    - We can assume that if a household is missing values for number of tablets, it's because they don't own any tablets. I think we can safely replace the NaN with a 0. \n",
    "- `rez_esc` - **years behind school**\n",
    "    - After looking in the Kaggle discussion, it looks like this only applies to students who are in school. We can safely assume that anyone over 19 should not have a value here because they are no longer in school. Thus for anyone over 19 and younger than 7 with missing values, we can change those numbers to 0. \n",
    "- `meaneduc` - **mean education for adults**\n",
    "    - It is unclear why this may be missing data. It is likely that it is missing values randomly and not for a specific reason. We'll look into this more later to be sure. \n",
    "- `SQBmeaned` - **square of meaned**\n",
    "    - The same applies to this variable as the one above. They are missing the same amount of values. We'll look into it to determine what should be done. "
   ]
  },
  {
   "cell_type": "markdown",
   "metadata": {},
   "source": [
    "### Fixing Missing Values"
   ]
  },
  {
   "cell_type": "markdown",
   "metadata": {},
   "source": [
    "Now that we know which features have missing values and have an idea of why they may be missing those values, it's time to check and make sure that our hypotheses are correct and then fill them in correctly. We'll attack them in the same order as above:"
   ]
  },
  {
   "cell_type": "markdown",
   "metadata": {},
   "source": [
    "**`v2a1` Monthly Rent**"
   ]
  },
  {
   "cell_type": "markdown",
   "metadata": {},
   "source": [
    "My hypothesis is that any missing values in this column are due to the fact that they own their house and no longer have to make rent payments. Let's test this hypothesis by checking the distribution of missing values compared to the different types of home ownership types which are:\n",
    "\n",
    "- `tipovivi1`, own and fully paid house\n",
    "- `tipovivi2`, own,  paying in installments\n",
    "- `tipovivi3`, rented\n",
    "- `tipovivi4`, precarious\n",
    "- `tipovivi5`, other (assigned,  borrowed)"
   ]
  },
  {
   "cell_type": "code",
   "execution_count": 10,
   "metadata": {},
   "outputs": [
    {
     "data": {
      "image/png": "[encoded data removed]",
      "text/plain": [
       "<Figure size 576x432 with 1 Axes>"
      ]
     },
     "metadata": {},
     "output_type": "display_data"
    }
   ],
   "source": [
    "# Create new dataset with count of NaN values and types of home ownership\n",
    "ownership_type = ['tipovivi1', 'tipovivi2', 'tipovivi3', 'tipovivi4', 'tipovivi5']\n",
    "ownership_data = train.loc[train['v2a1'].isnull(), ownership_type].sum()\n",
    "ownership_data = ownership_data.reset_index()\n",
    "\n",
    "# Plot distribution \n",
    "f, ax = plt.subplots(figsize=(8, 6))\n",
    "plot = sns.barplot(x = 'index', y = 0 , data = ownership_data)\n",
    "plt.title('Missing Rent Payment Values by Home Ownership Type', fontsize=14)\n",
    "plt.xlabel('Home Ownership Type', fontsize=12)\n",
    "plt.ylabel('# of Missing Values', fontsize=12)\n",
    "plt.xticks([0, 1, 2, 3, 4],\n",
    "           ['Own & Fully Paid', 'Own & Paying', 'Rented', 'Precarious', 'Other'],\n",
    "          rotation = 50)\n",
    "plt.show()"
   ]
  },
  {
   "cell_type": "markdown",
   "metadata": {},
   "source": [
    "It looks like my hypothesis was correct! From our above graph, we can see that the vast majority of people missing the rent payment value own and have fully paid off their houses which is great. We can go ahead and change those values to 0."
   ]
  },
  {
   "cell_type": "code",
   "execution_count": 11,
   "metadata": {},
   "outputs": [],
   "source": [
    "# Change rent payment values to 0\n",
    "train.loc[(train['tipovivi1'] == 1), 'v2a1'] = 0"
   ]
  },
  {
   "cell_type": "markdown",
   "metadata": {},
   "source": [
    "For the rest of the missing values that can't be explained by home ownership, there doesn't seem to be a good reason for why they're missing. As a result, we're going to fill in these values with the median value of the dataset. "
   ]
  },
  {
   "cell_type": "code",
   "execution_count": 12,
   "metadata": {},
   "outputs": [],
   "source": [
    "# Fill in rest of missing values with median of head of households\n",
    "train['v2a1'] = train.groupby('parentesco1')['v2a1'].transform(lambda x: x.fillna(x.median()))"
   ]
  },
  {
   "cell_type": "markdown",
   "metadata": {},
   "source": [
    "**`v18q1` Number of Tablets**"
   ]
  },
  {
   "cell_type": "markdown",
   "metadata": {},
   "source": [
    "This one should be relatively easy. We just need to check and make sure that our hypothesis is correct by checking the `v18q` column. This column indicates whether or not a family owns a tablet. So if they have a NaN value in `v18q1`, they should have a 0 in the `v18q` column (indicating that they do not own a tablet as **0=no**)."
   ]
  },
  {
   "cell_type": "code",
   "execution_count": 13,
   "metadata": {},
   "outputs": [
    {
     "data": {
      "text/plain": [
       "v18q\n",
       "0    7342\n",
       "1       0\n",
       "Name: v18q1, dtype: int64"
      ]
     },
     "execution_count": 13,
     "metadata": {},
     "output_type": "execute_result"
    }
   ],
   "source": [
    "# Calculate how many null values for those who do and don't own tablets\n",
    "train.groupby('v18q')['v18q1'].apply(lambda x: x.isnull().sum())"
   ]
  },
  {
   "cell_type": "markdown",
   "metadata": {},
   "source": [
    "Well that solves that! There aren't any NaN values that we can't explain, so we're just going to replace any of these NaN values in our number of tablets column with 0."
   ]
  },
  {
   "cell_type": "code",
   "execution_count": 14,
   "metadata": {},
   "outputs": [],
   "source": [
    "# Replace NaNs with 0 for number of tablets\n",
    "train.v18q1 = train.v18q1.fillna(0)"
   ]
  },
  {
   "cell_type": "markdown",
   "metadata": {},
   "source": [
    "**`rez_esc` Years Behind in School**"
   ]
  },
  {
   "cell_type": "markdown",
   "metadata": {},
   "source": [
    "Now it's time to fix the missing values found in the `rez_esc` column. Once again, after looking in the Kaggle discussion, it looks like this only applies to students who are in school, so we can safely assume that anyone over 19 should not have a value here because they are no longer in school. So for anyone over 19 and younger than 7 with missing values, we can change those numbers to 0. "
   ]
  },
  {
   "cell_type": "code",
   "execution_count": 15,
   "metadata": {},
   "outputs": [],
   "source": [
    "# Anyone older than 18 and younger than 7 with missing values gets filled in with a 0\n",
    "train.loc[((train['age'] >= 19) | (train['age'] < 7)) & (train['rez_esc'].isnull()), 'rez_esc'] = 0"
   ]
  },
  {
   "cell_type": "markdown",
   "metadata": {},
   "source": [
    "For the rest of the missing values, we'll take a similar approach to filling them in as we did with other non-random missing values above by filling in the missing values with the median of their age group. "
   ]
  },
  {
   "cell_type": "code",
   "execution_count": 16,
   "metadata": {},
   "outputs": [],
   "source": [
    "# Fill in remaining NaN values in rez_esc with mean\n",
    "train['rez_esc'] = train.groupby('age')['rez_esc'].transform(lambda x: x.fillna(x.median()))"
   ]
  },
  {
   "cell_type": "markdown",
   "metadata": {},
   "source": [
    "**`meaneduc` Mean Education for Adults** & **`SQBmeaned` Square of Meaned**"
   ]
  },
  {
   "cell_type": "markdown",
   "metadata": {},
   "source": [
    "The last thing we need to do is figure out the missing values in the education columns. `meaneduc` and `SQBmeaned` are correlated (`SQBmeaned` is just the `meaneduc` squared), so we're going to look at them together to try and determine if there's any reason for why there may be missing data. We're going to display the rows with missing data to see if we can make any discoveries of non-random reasons why the data would be missing."
   ]
  },
  {
   "cell_type": "code",
   "execution_count": 17,
   "metadata": {
    "scrolled": true
   },
   "outputs": [
    {
     "data": {
      "text/html": [
       "<div>\n",
       "<style scoped>\n",
       "    .dataframe tbody tr th:only-of-type {\n",
       "        vertical-align: middle;\n",
       "    }\n",
       "\n",
       "    .dataframe tbody tr th {\n",
       "        vertical-align: top;\n",
       "    }\n",
       "\n",
       "    .dataframe thead th {\n",
       "        text-align: right;\n",
       "    }\n",
       "</style>\n",
       "<table border=\"1\" class=\"dataframe\">\n",
       "  <thead>\n",
       "    <tr style=\"text-align: right;\">\n",
       "      <th></th>\n",
       "      <th>v2a1</th>\n",
       "      <th>hacdor</th>\n",
       "      <th>rooms</th>\n",
       "      <th>hacapo</th>\n",
       "      <th>v14a</th>\n",
       "      <th>refrig</th>\n",
       "      <th>v18q</th>\n",
       "      <th>v18q1</th>\n",
       "      <th>r4h1</th>\n",
       "      <th>r4h2</th>\n",
       "      <th>r4h3</th>\n",
       "      <th>r4m1</th>\n",
       "      <th>r4m2</th>\n",
       "      <th>r4m3</th>\n",
       "      <th>r4t1</th>\n",
       "      <th>r4t2</th>\n",
       "      <th>r4t3</th>\n",
       "      <th>tamhog</th>\n",
       "      <th>tamviv</th>\n",
       "      <th>escolari</th>\n",
       "      <th>rez_esc</th>\n",
       "      <th>hhsize</th>\n",
       "      <th>paredblolad</th>\n",
       "      <th>paredzocalo</th>\n",
       "      <th>paredpreb</th>\n",
       "      <th>pareddes</th>\n",
       "      <th>paredmad</th>\n",
       "      <th>paredzinc</th>\n",
       "      <th>paredfibras</th>\n",
       "      <th>paredother</th>\n",
       "      <th>pisomoscer</th>\n",
       "      <th>pisocemento</th>\n",
       "      <th>pisoother</th>\n",
       "      <th>pisonatur</th>\n",
       "      <th>pisonotiene</th>\n",
       "      <th>pisomadera</th>\n",
       "      <th>techozinc</th>\n",
       "      <th>techoentrepiso</th>\n",
       "      <th>techocane</th>\n",
       "      <th>techootro</th>\n",
       "      <th>cielorazo</th>\n",
       "      <th>abastaguadentro</th>\n",
       "      <th>abastaguafuera</th>\n",
       "      <th>abastaguano</th>\n",
       "      <th>public</th>\n",
       "      <th>planpri</th>\n",
       "      <th>noelec</th>\n",
       "      <th>coopele</th>\n",
       "      <th>sanitario1</th>\n",
       "      <th>sanitario2</th>\n",
       "      <th>sanitario3</th>\n",
       "      <th>sanitario5</th>\n",
       "      <th>sanitario6</th>\n",
       "      <th>energcocinar1</th>\n",
       "      <th>energcocinar2</th>\n",
       "      <th>energcocinar3</th>\n",
       "      <th>energcocinar4</th>\n",
       "      <th>elimbasu1</th>\n",
       "      <th>elimbasu2</th>\n",
       "      <th>elimbasu3</th>\n",
       "      <th>elimbasu4</th>\n",
       "      <th>elimbasu5</th>\n",
       "      <th>elimbasu6</th>\n",
       "      <th>epared1</th>\n",
       "      <th>epared2</th>\n",
       "      <th>epared3</th>\n",
       "      <th>etecho1</th>\n",
       "      <th>etecho2</th>\n",
       "      <th>etecho3</th>\n",
       "      <th>eviv1</th>\n",
       "      <th>eviv2</th>\n",
       "      <th>eviv3</th>\n",
       "      <th>dis</th>\n",
       "      <th>male</th>\n",
       "      <th>female</th>\n",
       "      <th>estadocivil1</th>\n",
       "      <th>estadocivil2</th>\n",
       "      <th>estadocivil3</th>\n",
       "      <th>estadocivil4</th>\n",
       "      <th>estadocivil5</th>\n",
       "      <th>estadocivil6</th>\n",
       "      <th>estadocivil7</th>\n",
       "      <th>parentesco1</th>\n",
       "      <th>parentesco2</th>\n",
       "      <th>parentesco3</th>\n",
       "      <th>parentesco4</th>\n",
       "      <th>parentesco5</th>\n",
       "      <th>parentesco6</th>\n",
       "      <th>parentesco7</th>\n",
       "      <th>parentesco8</th>\n",
       "      <th>parentesco9</th>\n",
       "      <th>parentesco10</th>\n",
       "      <th>parentesco11</th>\n",
       "      <th>parentesco12</th>\n",
       "      <th>hogar_nin</th>\n",
       "      <th>hogar_adul</th>\n",
       "      <th>hogar_mayor</th>\n",
       "      <th>hogar_total</th>\n",
       "      <th>dependency</th>\n",
       "      <th>edjefe</th>\n",
       "      <th>edjefa</th>\n",
       "      <th>meaneduc</th>\n",
       "      <th>instlevel1</th>\n",
       "      <th>instlevel2</th>\n",
       "      <th>instlevel3</th>\n",
       "      <th>instlevel4</th>\n",
       "      <th>instlevel5</th>\n",
       "      <th>instlevel6</th>\n",
       "      <th>instlevel7</th>\n",
       "      <th>instlevel8</th>\n",
       "      <th>instlevel9</th>\n",
       "      <th>bedrooms</th>\n",
       "      <th>overcrowding</th>\n",
       "      <th>tipovivi1</th>\n",
       "      <th>tipovivi2</th>\n",
       "      <th>tipovivi3</th>\n",
       "      <th>tipovivi4</th>\n",
       "      <th>tipovivi5</th>\n",
       "      <th>computer</th>\n",
       "      <th>television</th>\n",
       "      <th>mobilephone</th>\n",
       "      <th>qmobilephone</th>\n",
       "      <th>lugar1</th>\n",
       "      <th>lugar2</th>\n",
       "      <th>lugar3</th>\n",
       "      <th>lugar4</th>\n",
       "      <th>lugar5</th>\n",
       "      <th>lugar6</th>\n",
       "      <th>area1</th>\n",
       "      <th>area2</th>\n",
       "      <th>age</th>\n",
       "      <th>SQBescolari</th>\n",
       "      <th>SQBage</th>\n",
       "      <th>SQBhogar_total</th>\n",
       "      <th>SQBedjefe</th>\n",
       "      <th>SQBhogar_nin</th>\n",
       "      <th>SQBovercrowding</th>\n",
       "      <th>SQBdependency</th>\n",
       "      <th>SQBmeaned</th>\n",
       "      <th>agesq</th>\n",
       "      <th>Target</th>\n",
       "    </tr>\n",
       "  </thead>\n",
       "  <tbody>\n",
       "    <tr>\n",
       "      <th>1291</th>\n",
       "      <td>0.0</td>\n",
       "      <td>0</td>\n",
       "      <td>7</td>\n",
       "      <td>0</td>\n",
       "      <td>1</td>\n",
       "      <td>1</td>\n",
       "      <td>0</td>\n",
       "      <td>0.0</td>\n",
       "      <td>0</td>\n",
       "      <td>0</td>\n",
       "      <td>0</td>\n",
       "      <td>0</td>\n",
       "      <td>1</td>\n",
       "      <td>1</td>\n",
       "      <td>0</td>\n",
       "      <td>1</td>\n",
       "      <td>1</td>\n",
       "      <td>1</td>\n",
       "      <td>1</td>\n",
       "      <td>10</td>\n",
       "      <td>NaN</td>\n",
       "      <td>1</td>\n",
       "      <td>0</td>\n",
       "      <td>0</td>\n",
       "      <td>0</td>\n",
       "      <td>0</td>\n",
       "      <td>1</td>\n",
       "      <td>0</td>\n",
       "      <td>0</td>\n",
       "      <td>0</td>\n",
       "      <td>1</td>\n",
       "      <td>0</td>\n",
       "      <td>0</td>\n",
       "      <td>0</td>\n",
       "      <td>0</td>\n",
       "      <td>0</td>\n",
       "      <td>1</td>\n",
       "      <td>0</td>\n",
       "      <td>0</td>\n",
       "      <td>0</td>\n",
       "      <td>1</td>\n",
       "      <td>1</td>\n",
       "      <td>0</td>\n",
       "      <td>0</td>\n",
       "      <td>1</td>\n",
       "      <td>0</td>\n",
       "      <td>0</td>\n",
       "      <td>0</td>\n",
       "      <td>0</td>\n",
       "      <td>1</td>\n",
       "      <td>0</td>\n",
       "      <td>0</td>\n",
       "      <td>0</td>\n",
       "      <td>0</td>\n",
       "      <td>1</td>\n",
       "      <td>0</td>\n",
       "      <td>0</td>\n",
       "      <td>1</td>\n",
       "      <td>0</td>\n",
       "      <td>0</td>\n",
       "      <td>0</td>\n",
       "      <td>0</td>\n",
       "      <td>0</td>\n",
       "      <td>0</td>\n",
       "      <td>1</td>\n",
       "      <td>0</td>\n",
       "      <td>1</td>\n",
       "      <td>0</td>\n",
       "      <td>0</td>\n",
       "      <td>0</td>\n",
       "      <td>0</td>\n",
       "      <td>1</td>\n",
       "      <td>0</td>\n",
       "      <td>0</td>\n",
       "      <td>1</td>\n",
       "      <td>0</td>\n",
       "      <td>0</td>\n",
       "      <td>0</td>\n",
       "      <td>0</td>\n",
       "      <td>0</td>\n",
       "      <td>0</td>\n",
       "      <td>1</td>\n",
       "      <td>1</td>\n",
       "      <td>0</td>\n",
       "      <td>0</td>\n",
       "      <td>0</td>\n",
       "      <td>0</td>\n",
       "      <td>0</td>\n",
       "      <td>0</td>\n",
       "      <td>0</td>\n",
       "      <td>0</td>\n",
       "      <td>0</td>\n",
       "      <td>0</td>\n",
       "      <td>0</td>\n",
       "      <td>1</td>\n",
       "      <td>0</td>\n",
       "      <td>0</td>\n",
       "      <td>1</td>\n",
       "      <td>8.0</td>\n",
       "      <td>0</td>\n",
       "      <td>10</td>\n",
       "      <td>NaN</td>\n",
       "      <td>0</td>\n",
       "      <td>0</td>\n",
       "      <td>0</td>\n",
       "      <td>1</td>\n",
       "      <td>0</td>\n",
       "      <td>0</td>\n",
       "      <td>0</td>\n",
       "      <td>0</td>\n",
       "      <td>0</td>\n",
       "      <td>5</td>\n",
       "      <td>0.2</td>\n",
       "      <td>1</td>\n",
       "      <td>0</td>\n",
       "      <td>0</td>\n",
       "      <td>0</td>\n",
       "      <td>0</td>\n",
       "      <td>1</td>\n",
       "      <td>1</td>\n",
       "      <td>1</td>\n",
       "      <td>1</td>\n",
       "      <td>1</td>\n",
       "      <td>0</td>\n",
       "      <td>0</td>\n",
       "      <td>0</td>\n",
       "      <td>0</td>\n",
       "      <td>0</td>\n",
       "      <td>1</td>\n",
       "      <td>0</td>\n",
       "      <td>18</td>\n",
       "      <td>100</td>\n",
       "      <td>324</td>\n",
       "      <td>1</td>\n",
       "      <td>0</td>\n",
       "      <td>1</td>\n",
       "      <td>0.04</td>\n",
       "      <td>64.0</td>\n",
       "      <td>NaN</td>\n",
       "      <td>324</td>\n",
       "      <td>4</td>\n",
       "    </tr>\n",
       "    <tr>\n",
       "      <th>1840</th>\n",
       "      <td>110000.0</td>\n",
       "      <td>0</td>\n",
       "      <td>1</td>\n",
       "      <td>0</td>\n",
       "      <td>1</td>\n",
       "      <td>1</td>\n",
       "      <td>0</td>\n",
       "      <td>0.0</td>\n",
       "      <td>0</td>\n",
       "      <td>1</td>\n",
       "      <td>1</td>\n",
       "      <td>0</td>\n",
       "      <td>1</td>\n",
       "      <td>1</td>\n",
       "      <td>0</td>\n",
       "      <td>2</td>\n",
       "      <td>2</td>\n",
       "      <td>2</td>\n",
       "      <td>2</td>\n",
       "      <td>6</td>\n",
       "      <td>NaN</td>\n",
       "      <td>2</td>\n",
       "      <td>1</td>\n",
       "      <td>0</td>\n",
       "      <td>0</td>\n",
       "      <td>0</td>\n",
       "      <td>0</td>\n",
       "      <td>0</td>\n",
       "      <td>0</td>\n",
       "      <td>0</td>\n",
       "      <td>1</td>\n",
       "      <td>0</td>\n",
       "      <td>0</td>\n",
       "      <td>0</td>\n",
       "      <td>0</td>\n",
       "      <td>0</td>\n",
       "      <td>1</td>\n",
       "      <td>0</td>\n",
       "      <td>0</td>\n",
       "      <td>0</td>\n",
       "      <td>1</td>\n",
       "      <td>1</td>\n",
       "      <td>0</td>\n",
       "      <td>0</td>\n",
       "      <td>1</td>\n",
       "      <td>0</td>\n",
       "      <td>0</td>\n",
       "      <td>0</td>\n",
       "      <td>0</td>\n",
       "      <td>0</td>\n",
       "      <td>1</td>\n",
       "      <td>0</td>\n",
       "      <td>0</td>\n",
       "      <td>0</td>\n",
       "      <td>0</td>\n",
       "      <td>1</td>\n",
       "      <td>0</td>\n",
       "      <td>1</td>\n",
       "      <td>0</td>\n",
       "      <td>0</td>\n",
       "      <td>0</td>\n",
       "      <td>0</td>\n",
       "      <td>0</td>\n",
       "      <td>0</td>\n",
       "      <td>1</td>\n",
       "      <td>0</td>\n",
       "      <td>0</td>\n",
       "      <td>1</td>\n",
       "      <td>0</td>\n",
       "      <td>0</td>\n",
       "      <td>1</td>\n",
       "      <td>0</td>\n",
       "      <td>0</td>\n",
       "      <td>0</td>\n",
       "      <td>1</td>\n",
       "      <td>0</td>\n",
       "      <td>1</td>\n",
       "      <td>0</td>\n",
       "      <td>0</td>\n",
       "      <td>0</td>\n",
       "      <td>0</td>\n",
       "      <td>0</td>\n",
       "      <td>0</td>\n",
       "      <td>1</td>\n",
       "      <td>0</td>\n",
       "      <td>0</td>\n",
       "      <td>0</td>\n",
       "      <td>0</td>\n",
       "      <td>0</td>\n",
       "      <td>0</td>\n",
       "      <td>0</td>\n",
       "      <td>0</td>\n",
       "      <td>0</td>\n",
       "      <td>0</td>\n",
       "      <td>2</td>\n",
       "      <td>0</td>\n",
       "      <td>0</td>\n",
       "      <td>2</td>\n",
       "      <td>8.0</td>\n",
       "      <td>4</td>\n",
       "      <td>0</td>\n",
       "      <td>NaN</td>\n",
       "      <td>0</td>\n",
       "      <td>0</td>\n",
       "      <td>1</td>\n",
       "      <td>0</td>\n",
       "      <td>0</td>\n",
       "      <td>0</td>\n",
       "      <td>0</td>\n",
       "      <td>0</td>\n",
       "      <td>0</td>\n",
       "      <td>1</td>\n",
       "      <td>2.0</td>\n",
       "      <td>0</td>\n",
       "      <td>0</td>\n",
       "      <td>1</td>\n",
       "      <td>0</td>\n",
       "      <td>0</td>\n",
       "      <td>0</td>\n",
       "      <td>0</td>\n",
       "      <td>1</td>\n",
       "      <td>2</td>\n",
       "      <td>1</td>\n",
       "      <td>0</td>\n",
       "      <td>0</td>\n",
       "      <td>0</td>\n",
       "      <td>0</td>\n",
       "      <td>0</td>\n",
       "      <td>1</td>\n",
       "      <td>0</td>\n",
       "      <td>18</td>\n",
       "      <td>36</td>\n",
       "      <td>324</td>\n",
       "      <td>4</td>\n",
       "      <td>16</td>\n",
       "      <td>4</td>\n",
       "      <td>4.00</td>\n",
       "      <td>64.0</td>\n",
       "      <td>NaN</td>\n",
       "      <td>324</td>\n",
       "      <td>4</td>\n",
       "    </tr>\n",
       "    <tr>\n",
       "      <th>1841</th>\n",
       "      <td>110000.0</td>\n",
       "      <td>0</td>\n",
       "      <td>1</td>\n",
       "      <td>0</td>\n",
       "      <td>1</td>\n",
       "      <td>1</td>\n",
       "      <td>0</td>\n",
       "      <td>0.0</td>\n",
       "      <td>0</td>\n",
       "      <td>1</td>\n",
       "      <td>1</td>\n",
       "      <td>0</td>\n",
       "      <td>1</td>\n",
       "      <td>1</td>\n",
       "      <td>0</td>\n",
       "      <td>2</td>\n",
       "      <td>2</td>\n",
       "      <td>2</td>\n",
       "      <td>2</td>\n",
       "      <td>4</td>\n",
       "      <td>NaN</td>\n",
       "      <td>2</td>\n",
       "      <td>1</td>\n",
       "      <td>0</td>\n",
       "      <td>0</td>\n",
       "      <td>0</td>\n",
       "      <td>0</td>\n",
       "      <td>0</td>\n",
       "      <td>0</td>\n",
       "      <td>0</td>\n",
       "      <td>1</td>\n",
       "      <td>0</td>\n",
       "      <td>0</td>\n",
       "      <td>0</td>\n",
       "      <td>0</td>\n",
       "      <td>0</td>\n",
       "      <td>1</td>\n",
       "      <td>0</td>\n",
       "      <td>0</td>\n",
       "      <td>0</td>\n",
       "      <td>1</td>\n",
       "      <td>1</td>\n",
       "      <td>0</td>\n",
       "      <td>0</td>\n",
       "      <td>1</td>\n",
       "      <td>0</td>\n",
       "      <td>0</td>\n",
       "      <td>0</td>\n",
       "      <td>0</td>\n",
       "      <td>0</td>\n",
       "      <td>1</td>\n",
       "      <td>0</td>\n",
       "      <td>0</td>\n",
       "      <td>0</td>\n",
       "      <td>0</td>\n",
       "      <td>1</td>\n",
       "      <td>0</td>\n",
       "      <td>1</td>\n",
       "      <td>0</td>\n",
       "      <td>0</td>\n",
       "      <td>0</td>\n",
       "      <td>0</td>\n",
       "      <td>0</td>\n",
       "      <td>0</td>\n",
       "      <td>1</td>\n",
       "      <td>0</td>\n",
       "      <td>0</td>\n",
       "      <td>1</td>\n",
       "      <td>0</td>\n",
       "      <td>0</td>\n",
       "      <td>1</td>\n",
       "      <td>0</td>\n",
       "      <td>1</td>\n",
       "      <td>1</td>\n",
       "      <td>0</td>\n",
       "      <td>0</td>\n",
       "      <td>1</td>\n",
       "      <td>0</td>\n",
       "      <td>0</td>\n",
       "      <td>0</td>\n",
       "      <td>0</td>\n",
       "      <td>0</td>\n",
       "      <td>1</td>\n",
       "      <td>0</td>\n",
       "      <td>0</td>\n",
       "      <td>0</td>\n",
       "      <td>0</td>\n",
       "      <td>0</td>\n",
       "      <td>0</td>\n",
       "      <td>0</td>\n",
       "      <td>0</td>\n",
       "      <td>0</td>\n",
       "      <td>0</td>\n",
       "      <td>0</td>\n",
       "      <td>2</td>\n",
       "      <td>0</td>\n",
       "      <td>0</td>\n",
       "      <td>2</td>\n",
       "      <td>8.0</td>\n",
       "      <td>4</td>\n",
       "      <td>0</td>\n",
       "      <td>NaN</td>\n",
       "      <td>0</td>\n",
       "      <td>1</td>\n",
       "      <td>0</td>\n",
       "      <td>0</td>\n",
       "      <td>0</td>\n",
       "      <td>0</td>\n",
       "      <td>0</td>\n",
       "      <td>0</td>\n",
       "      <td>0</td>\n",
       "      <td>1</td>\n",
       "      <td>2.0</td>\n",
       "      <td>0</td>\n",
       "      <td>0</td>\n",
       "      <td>1</td>\n",
       "      <td>0</td>\n",
       "      <td>0</td>\n",
       "      <td>0</td>\n",
       "      <td>0</td>\n",
       "      <td>1</td>\n",
       "      <td>2</td>\n",
       "      <td>1</td>\n",
       "      <td>0</td>\n",
       "      <td>0</td>\n",
       "      <td>0</td>\n",
       "      <td>0</td>\n",
       "      <td>0</td>\n",
       "      <td>1</td>\n",
       "      <td>0</td>\n",
       "      <td>18</td>\n",
       "      <td>16</td>\n",
       "      <td>324</td>\n",
       "      <td>4</td>\n",
       "      <td>16</td>\n",
       "      <td>4</td>\n",
       "      <td>4.00</td>\n",
       "      <td>64.0</td>\n",
       "      <td>NaN</td>\n",
       "      <td>324</td>\n",
       "      <td>4</td>\n",
       "    </tr>\n",
       "    <tr>\n",
       "      <th>2049</th>\n",
       "      <td>180000.0</td>\n",
       "      <td>0</td>\n",
       "      <td>3</td>\n",
       "      <td>0</td>\n",
       "      <td>1</td>\n",
       "      <td>1</td>\n",
       "      <td>0</td>\n",
       "      <td>0.0</td>\n",
       "      <td>0</td>\n",
       "      <td>2</td>\n",
       "      <td>2</td>\n",
       "      <td>0</td>\n",
       "      <td>0</td>\n",
       "      <td>0</td>\n",
       "      <td>0</td>\n",
       "      <td>2</td>\n",
       "      <td>2</td>\n",
       "      <td>2</td>\n",
       "      <td>2</td>\n",
       "      <td>12</td>\n",
       "      <td>0.0</td>\n",
       "      <td>2</td>\n",
       "      <td>0</td>\n",
       "      <td>0</td>\n",
       "      <td>1</td>\n",
       "      <td>0</td>\n",
       "      <td>0</td>\n",
       "      <td>0</td>\n",
       "      <td>0</td>\n",
       "      <td>0</td>\n",
       "      <td>1</td>\n",
       "      <td>0</td>\n",
       "      <td>0</td>\n",
       "      <td>0</td>\n",
       "      <td>0</td>\n",
       "      <td>0</td>\n",
       "      <td>1</td>\n",
       "      <td>0</td>\n",
       "      <td>0</td>\n",
       "      <td>0</td>\n",
       "      <td>1</td>\n",
       "      <td>1</td>\n",
       "      <td>0</td>\n",
       "      <td>0</td>\n",
       "      <td>1</td>\n",
       "      <td>0</td>\n",
       "      <td>0</td>\n",
       "      <td>0</td>\n",
       "      <td>0</td>\n",
       "      <td>1</td>\n",
       "      <td>0</td>\n",
       "      <td>0</td>\n",
       "      <td>0</td>\n",
       "      <td>0</td>\n",
       "      <td>1</td>\n",
       "      <td>0</td>\n",
       "      <td>0</td>\n",
       "      <td>1</td>\n",
       "      <td>0</td>\n",
       "      <td>0</td>\n",
       "      <td>0</td>\n",
       "      <td>0</td>\n",
       "      <td>0</td>\n",
       "      <td>0</td>\n",
       "      <td>1</td>\n",
       "      <td>0</td>\n",
       "      <td>0</td>\n",
       "      <td>0</td>\n",
       "      <td>1</td>\n",
       "      <td>0</td>\n",
       "      <td>0</td>\n",
       "      <td>1</td>\n",
       "      <td>0</td>\n",
       "      <td>1</td>\n",
       "      <td>0</td>\n",
       "      <td>0</td>\n",
       "      <td>0</td>\n",
       "      <td>0</td>\n",
       "      <td>0</td>\n",
       "      <td>0</td>\n",
       "      <td>0</td>\n",
       "      <td>1</td>\n",
       "      <td>1</td>\n",
       "      <td>0</td>\n",
       "      <td>0</td>\n",
       "      <td>0</td>\n",
       "      <td>0</td>\n",
       "      <td>0</td>\n",
       "      <td>0</td>\n",
       "      <td>0</td>\n",
       "      <td>0</td>\n",
       "      <td>0</td>\n",
       "      <td>0</td>\n",
       "      <td>0</td>\n",
       "      <td>2</td>\n",
       "      <td>0</td>\n",
       "      <td>0</td>\n",
       "      <td>2</td>\n",
       "      <td>8.0</td>\n",
       "      <td>12</td>\n",
       "      <td>0</td>\n",
       "      <td>NaN</td>\n",
       "      <td>0</td>\n",
       "      <td>0</td>\n",
       "      <td>0</td>\n",
       "      <td>0</td>\n",
       "      <td>0</td>\n",
       "      <td>0</td>\n",
       "      <td>1</td>\n",
       "      <td>0</td>\n",
       "      <td>0</td>\n",
       "      <td>2</td>\n",
       "      <td>1.0</td>\n",
       "      <td>0</td>\n",
       "      <td>0</td>\n",
       "      <td>1</td>\n",
       "      <td>0</td>\n",
       "      <td>0</td>\n",
       "      <td>0</td>\n",
       "      <td>0</td>\n",
       "      <td>1</td>\n",
       "      <td>2</td>\n",
       "      <td>1</td>\n",
       "      <td>0</td>\n",
       "      <td>0</td>\n",
       "      <td>0</td>\n",
       "      <td>0</td>\n",
       "      <td>0</td>\n",
       "      <td>1</td>\n",
       "      <td>0</td>\n",
       "      <td>19</td>\n",
       "      <td>144</td>\n",
       "      <td>361</td>\n",
       "      <td>4</td>\n",
       "      <td>144</td>\n",
       "      <td>4</td>\n",
       "      <td>1.00</td>\n",
       "      <td>64.0</td>\n",
       "      <td>NaN</td>\n",
       "      <td>361</td>\n",
       "      <td>4</td>\n",
       "    </tr>\n",
       "    <tr>\n",
       "      <th>2050</th>\n",
       "      <td>180000.0</td>\n",
       "      <td>0</td>\n",
       "      <td>3</td>\n",
       "      <td>0</td>\n",
       "      <td>1</td>\n",
       "      <td>1</td>\n",
       "      <td>0</td>\n",
       "      <td>0.0</td>\n",
       "      <td>0</td>\n",
       "      <td>2</td>\n",
       "      <td>2</td>\n",
       "      <td>0</td>\n",
       "      <td>0</td>\n",
       "      <td>0</td>\n",
       "      <td>0</td>\n",
       "      <td>2</td>\n",
       "      <td>2</td>\n",
       "      <td>2</td>\n",
       "      <td>2</td>\n",
       "      <td>12</td>\n",
       "      <td>0.0</td>\n",
       "      <td>2</td>\n",
       "      <td>0</td>\n",
       "      <td>0</td>\n",
       "      <td>1</td>\n",
       "      <td>0</td>\n",
       "      <td>0</td>\n",
       "      <td>0</td>\n",
       "      <td>0</td>\n",
       "      <td>0</td>\n",
       "      <td>1</td>\n",
       "      <td>0</td>\n",
       "      <td>0</td>\n",
       "      <td>0</td>\n",
       "      <td>0</td>\n",
       "      <td>0</td>\n",
       "      <td>1</td>\n",
       "      <td>0</td>\n",
       "      <td>0</td>\n",
       "      <td>0</td>\n",
       "      <td>1</td>\n",
       "      <td>1</td>\n",
       "      <td>0</td>\n",
       "      <td>0</td>\n",
       "      <td>1</td>\n",
       "      <td>0</td>\n",
       "      <td>0</td>\n",
       "      <td>0</td>\n",
       "      <td>0</td>\n",
       "      <td>1</td>\n",
       "      <td>0</td>\n",
       "      <td>0</td>\n",
       "      <td>0</td>\n",
       "      <td>0</td>\n",
       "      <td>1</td>\n",
       "      <td>0</td>\n",
       "      <td>0</td>\n",
       "      <td>1</td>\n",
       "      <td>0</td>\n",
       "      <td>0</td>\n",
       "      <td>0</td>\n",
       "      <td>0</td>\n",
       "      <td>0</td>\n",
       "      <td>0</td>\n",
       "      <td>1</td>\n",
       "      <td>0</td>\n",
       "      <td>0</td>\n",
       "      <td>0</td>\n",
       "      <td>1</td>\n",
       "      <td>0</td>\n",
       "      <td>0</td>\n",
       "      <td>1</td>\n",
       "      <td>0</td>\n",
       "      <td>1</td>\n",
       "      <td>0</td>\n",
       "      <td>0</td>\n",
       "      <td>0</td>\n",
       "      <td>0</td>\n",
       "      <td>0</td>\n",
       "      <td>0</td>\n",
       "      <td>0</td>\n",
       "      <td>1</td>\n",
       "      <td>0</td>\n",
       "      <td>0</td>\n",
       "      <td>0</td>\n",
       "      <td>0</td>\n",
       "      <td>0</td>\n",
       "      <td>0</td>\n",
       "      <td>0</td>\n",
       "      <td>0</td>\n",
       "      <td>0</td>\n",
       "      <td>0</td>\n",
       "      <td>0</td>\n",
       "      <td>1</td>\n",
       "      <td>2</td>\n",
       "      <td>0</td>\n",
       "      <td>0</td>\n",
       "      <td>2</td>\n",
       "      <td>8.0</td>\n",
       "      <td>12</td>\n",
       "      <td>0</td>\n",
       "      <td>NaN</td>\n",
       "      <td>0</td>\n",
       "      <td>0</td>\n",
       "      <td>0</td>\n",
       "      <td>0</td>\n",
       "      <td>0</td>\n",
       "      <td>0</td>\n",
       "      <td>1</td>\n",
       "      <td>0</td>\n",
       "      <td>0</td>\n",
       "      <td>2</td>\n",
       "      <td>1.0</td>\n",
       "      <td>0</td>\n",
       "      <td>0</td>\n",
       "      <td>1</td>\n",
       "      <td>0</td>\n",
       "      <td>0</td>\n",
       "      <td>0</td>\n",
       "      <td>0</td>\n",
       "      <td>1</td>\n",
       "      <td>2</td>\n",
       "      <td>1</td>\n",
       "      <td>0</td>\n",
       "      <td>0</td>\n",
       "      <td>0</td>\n",
       "      <td>0</td>\n",
       "      <td>0</td>\n",
       "      <td>1</td>\n",
       "      <td>0</td>\n",
       "      <td>19</td>\n",
       "      <td>144</td>\n",
       "      <td>361</td>\n",
       "      <td>4</td>\n",
       "      <td>144</td>\n",
       "      <td>4</td>\n",
       "      <td>1.00</td>\n",
       "      <td>64.0</td>\n",
       "      <td>NaN</td>\n",
       "      <td>361</td>\n",
       "      <td>4</td>\n",
       "    </tr>\n",
       "  </tbody>\n",
       "</table>\n",
       "</div>"
      ],
      "text/plain": [
       "          v2a1  hacdor  rooms  hacapo  v14a  refrig  v18q  v18q1  r4h1  r4h2  \\\n",
       "1291       0.0       0      7       0     1       1     0    0.0     0     0   \n",
       "1840  110000.0       0      1       0     1       1     0    0.0     0     1   \n",
       "1841  110000.0       0      1       0     1       1     0    0.0     0     1   \n",
       "2049  180000.0       0      3       0     1       1     0    0.0     0     2   \n",
       "2050  180000.0       0      3       0     1       1     0    0.0     0     2   \n",
       "\n",
       "      r4h3  r4m1  r4m2  r4m3  r4t1  r4t2  r4t3  tamhog  tamviv  escolari  \\\n",
       "1291     0     0     1     1     0     1     1       1       1        10   \n",
       "1840     1     0     1     1     0     2     2       2       2         6   \n",
       "1841     1     0     1     1     0     2     2       2       2         4   \n",
       "2049     2     0     0     0     0     2     2       2       2        12   \n",
       "2050     2     0     0     0     0     2     2       2       2        12   \n",
       "\n",
       "      rez_esc  hhsize  paredblolad  paredzocalo  paredpreb  pareddes  \\\n",
       "1291      NaN       1            0            0          0         0   \n",
       "1840      NaN       2            1            0          0         0   \n",
       "1841      NaN       2            1            0          0         0   \n",
       "2049      0.0       2            0            0          1         0   \n",
       "2050      0.0       2            0            0          1         0   \n",
       "\n",
       "      paredmad  paredzinc  paredfibras  paredother  pisomoscer  pisocemento  \\\n",
       "1291         1          0            0           0           1            0   \n",
       "1840         0          0            0           0           1            0   \n",
       "1841         0          0            0           0           1            0   \n",
       "2049         0          0            0           0           1            0   \n",
       "2050         0          0            0           0           1            0   \n",
       "\n",
       "      pisoother  pisonatur  pisonotiene  pisomadera  techozinc  \\\n",
       "1291          0          0            0           0          1   \n",
       "1840          0          0            0           0          1   \n",
       "1841          0          0            0           0          1   \n",
       "2049          0          0            0           0          1   \n",
       "2050          0          0            0           0          1   \n",
       "\n",
       "      techoentrepiso  techocane  techootro  cielorazo  abastaguadentro  \\\n",
       "1291               0          0          0          1                1   \n",
       "1840               0          0          0          1                1   \n",
       "1841               0          0          0          1                1   \n",
       "2049               0          0          0          1                1   \n",
       "2050               0          0          0          1                1   \n",
       "\n",
       "      abastaguafuera  abastaguano  public  planpri  noelec  coopele  \\\n",
       "1291               0            0       1        0       0        0   \n",
       "1840               0            0       1        0       0        0   \n",
       "1841               0            0       1        0       0        0   \n",
       "2049               0            0       1        0       0        0   \n",
       "2050               0            0       1        0       0        0   \n",
       "\n",
       "      sanitario1  sanitario2  sanitario3  sanitario5  sanitario6  \\\n",
       "1291           0           1           0           0           0   \n",
       "1840           0           0           1           0           0   \n",
       "1841           0           0           1           0           0   \n",
       "2049           0           1           0           0           0   \n",
       "2050           0           1           0           0           0   \n",
       "\n",
       "      energcocinar1  energcocinar2  energcocinar3  energcocinar4  elimbasu1  \\\n",
       "1291              0              1              0              0          1   \n",
       "1840              0              0              1              0          1   \n",
       "1841              0              0              1              0          1   \n",
       "2049              0              1              0              0          1   \n",
       "2050              0              1              0              0          1   \n",
       "\n",
       "      elimbasu2  elimbasu3  elimbasu4  elimbasu5  elimbasu6  epared1  epared2  \\\n",
       "1291          0          0          0          0          0        0        1   \n",
       "1840          0          0          0          0          0        0        1   \n",
       "1841          0          0          0          0          0        0        1   \n",
       "2049          0          0          0          0          0        0        1   \n",
       "2050          0          0          0          0          0        0        1   \n",
       "\n",
       "      epared3  etecho1  etecho2  etecho3  eviv1  eviv2  eviv3  dis  male  \\\n",
       "1291        0        1        0        0      0      0      1    0     0   \n",
       "1840        0        0        1        0      0      1      0    0     0   \n",
       "1841        0        0        1        0      0      1      0    1     1   \n",
       "2049        0        0        0        1      0      0      1    0     1   \n",
       "2050        0        0        0        1      0      0      1    0     1   \n",
       "\n",
       "      female  estadocivil1  estadocivil2  estadocivil3  estadocivil4  \\\n",
       "1291       1             0             0             0             0   \n",
       "1840       1             0             1             0             0   \n",
       "1841       0             0             1             0             0   \n",
       "2049       0             0             0             0             0   \n",
       "2050       0             0             0             0             0   \n",
       "\n",
       "      estadocivil5  estadocivil6  estadocivil7  parentesco1  parentesco2  \\\n",
       "1291             0             0             1            1            0   \n",
       "1840             0             0             0            0            1   \n",
       "1841             0             0             0            1            0   \n",
       "2049             0             0             1            1            0   \n",
       "2050             0             0             1            0            0   \n",
       "\n",
       "      parentesco3  parentesco4  parentesco5  parentesco6  parentesco7  \\\n",
       "1291            0            0            0            0            0   \n",
       "1840            0            0            0            0            0   \n",
       "1841            0            0            0            0            0   \n",
       "2049            0            0            0            0            0   \n",
       "2050            0            0            0            0            0   \n",
       "\n",
       "      parentesco8  parentesco9  parentesco10  parentesco11  parentesco12  \\\n",
       "1291            0            0             0             0             0   \n",
       "1840            0            0             0             0             0   \n",
       "1841            0            0             0             0             0   \n",
       "2049            0            0             0             0             0   \n",
       "2050            0            0             0             0             1   \n",
       "\n",
       "      hogar_nin  hogar_adul  hogar_mayor  hogar_total  dependency  edjefe  \\\n",
       "1291          1           0            0            1         8.0       0   \n",
       "1840          2           0            0            2         8.0       4   \n",
       "1841          2           0            0            2         8.0       4   \n",
       "2049          2           0            0            2         8.0      12   \n",
       "2050          2           0            0            2         8.0      12   \n",
       "\n",
       "      edjefa  meaneduc  instlevel1  instlevel2  instlevel3  instlevel4  \\\n",
       "1291      10       NaN           0           0           0           1   \n",
       "1840       0       NaN           0           0           1           0   \n",
       "1841       0       NaN           0           1           0           0   \n",
       "2049       0       NaN           0           0           0           0   \n",
       "2050       0       NaN           0           0           0           0   \n",
       "\n",
       "      instlevel5  instlevel6  instlevel7  instlevel8  instlevel9  bedrooms  \\\n",
       "1291           0           0           0           0           0         5   \n",
       "1840           0           0           0           0           0         1   \n",
       "1841           0           0           0           0           0         1   \n",
       "2049           0           0           1           0           0         2   \n",
       "2050           0           0           1           0           0         2   \n",
       "\n",
       "      overcrowding  tipovivi1  tipovivi2  tipovivi3  tipovivi4  tipovivi5  \\\n",
       "1291           0.2          1          0          0          0          0   \n",
       "1840           2.0          0          0          1          0          0   \n",
       "1841           2.0          0          0          1          0          0   \n",
       "2049           1.0          0          0          1          0          0   \n",
       "2050           1.0          0          0          1          0          0   \n",
       "\n",
       "      computer  television  mobilephone  qmobilephone  lugar1  lugar2  lugar3  \\\n",
       "1291         1           1            1             1       1       0       0   \n",
       "1840         0           0            1             2       1       0       0   \n",
       "1841         0           0            1             2       1       0       0   \n",
       "2049         0           0            1             2       1       0       0   \n",
       "2050         0           0            1             2       1       0       0   \n",
       "\n",
       "      lugar4  lugar5  lugar6  area1  area2  age  SQBescolari  SQBage  \\\n",
       "1291       0       0       0      1      0   18          100     324   \n",
       "1840       0       0       0      1      0   18           36     324   \n",
       "1841       0       0       0      1      0   18           16     324   \n",
       "2049       0       0       0      1      0   19          144     361   \n",
       "2050       0       0       0      1      0   19          144     361   \n",
       "\n",
       "      SQBhogar_total  SQBedjefe  SQBhogar_nin  SQBovercrowding  SQBdependency  \\\n",
       "1291               1          0             1             0.04           64.0   \n",
       "1840               4         16             4             4.00           64.0   \n",
       "1841               4         16             4             4.00           64.0   \n",
       "2049               4        144             4             1.00           64.0   \n",
       "2050               4        144             4             1.00           64.0   \n",
       "\n",
       "      SQBmeaned  agesq  Target  \n",
       "1291        NaN    324       4  \n",
       "1840        NaN    324       4  \n",
       "1841        NaN    324       4  \n",
       "2049        NaN    361       4  \n",
       "2050        NaN    361       4  "
      ]
     },
     "execution_count": 17,
     "metadata": {},
     "output_type": "execute_result"
    }
   ],
   "source": [
    "# Display rows with missing values in education columns\n",
    "train.loc[(train['meaneduc'].isnull()) & (train['SQBmeaned'].isnull())]"
   ]
  },
  {
   "cell_type": "markdown",
   "metadata": {},
   "source": [
    "As far as I can tell, there isn't anything non-random that would explain why these values are missing, so we can go ahead and fill them in. Once again, we'll take a similar approach to filling them in as we did with other non-random missing values above by filling in the missing values with the median. The next question is how will we determine the most accurate median? I think what makes the most sense is to group by years of schooling and fill in the missing values with the median of the group."
   ]
  },
  {
   "cell_type": "code",
   "execution_count": 18,
   "metadata": {},
   "outputs": [],
   "source": [
    "# Fill in NaN values in meaneduc with mean\n",
    "train['meaneduc'] = train.groupby('escolari')['meaneduc'].transform(lambda x: x.fillna(x.median()))\n",
    "\n",
    "# Fill in NaN values in SQBmeaned with mean\n",
    "train['meaneduc'] = train.groupby('escolari')['SQBmeaned'].transform(lambda x: x.fillna(x.median()))"
   ]
  },
  {
   "cell_type": "markdown",
   "metadata": {},
   "source": [
    "Now that we've filled in all of our missing values, it's time to correct any outliers. "
   ]
  },
  {
   "cell_type": "markdown",
   "metadata": {},
   "source": [
    "### Clean Test Data"
   ]
  },
  {
   "cell_type": "markdown",
   "metadata": {},
   "source": [
    "Now that our training dataset has been cleaned, we will need to do all of the same cleaning on our test dataset. We will go ahead and do that now. "
   ]
  },
  {
   "cell_type": "code",
   "execution_count": 19,
   "metadata": {},
   "outputs": [],
   "source": [
    "# Change rent payment values to 0\n",
    "test.loc[(test['tipovivi1'] == 1), 'v2a1'] = 0\n",
    "\n",
    "# Fill in rest of missing values with median of head of households\n",
    "test['v2a1'] = test.groupby('parentesco1')['v2a1'].transform(lambda x: x.fillna(x.median()))\n",
    "\n",
    "# Replace NaNs with 0 for number of tablets\n",
    "test.v18q1 = test.v18q1.fillna(0)\n",
    "\n",
    "# Anyone older than 18 and younger than 7 with missing values gets filled in with a 0\n",
    "test.loc[((train['age'] >= 19) | (test['age'] < 7)) & (test['rez_esc'].isnull()), 'rez_esc'] = 0\n",
    "\n",
    "# Fill in remaining NaN values in rez_esc with mean\n",
    "test['rez_esc'] = test.groupby('age')['rez_esc'].transform(lambda x: x.fillna(x.median()))\n",
    "\n",
    "# Fill in NaN values in meaneduc with mean\n",
    "test['meaneduc'] = test.groupby('escolari')['meaneduc'].transform(lambda x: x.fillna(x.median()))\n",
    "\n",
    "# Fill in NaN values in SQBmeaned with mean\n",
    "test['meaneduc'] = test.groupby('escolari')['SQBmeaned'].transform(lambda x: x.fillna(x.median()))"
   ]
  },
  {
   "cell_type": "code",
   "execution_count": 20,
   "metadata": {},
   "outputs": [],
   "source": [
    "# Replace strings with binary\n",
    "categ_colz = ['dependency', 'edjefe', 'edjefa']\n",
    "for col in categ_colz:\n",
    "    test.loc[(test[col] == 'yes'), col]=1\n",
    "    test.loc[(test[col] == 'no'), col]=0\n",
    "test[categ_cols] = test[categ_cols].apply(pd.to_numeric)"
   ]
  },
  {
   "cell_type": "code",
   "execution_count": 21,
   "metadata": {},
   "outputs": [],
   "source": [
    "# Drop Id column\n",
    "test = test.drop('Id', axis = 1)\n",
    "test = test.drop('idhogar', axis = 1)"
   ]
  },
  {
   "cell_type": "code",
   "execution_count": 22,
   "metadata": {},
   "outputs": [],
   "source": [
    "# Drop any remaining NaN values that may have slipped through the cracks\n",
    "train = train.dropna()\n",
    "test = test.dropna()"
   ]
  },
  {
   "cell_type": "markdown",
   "metadata": {},
   "source": [
    "### Outliers"
   ]
  },
  {
   "cell_type": "markdown",
   "metadata": {},
   "source": [
    "In terms of outliers, I looked into the training and test datasets, it turned out there is only one outlier value `rez_esc` in test set which is a value of 99 even though the highest possible value is 5. This is obviously an outlier and an incorrect value that needs to be corrected. Acorrding to this [answer](https://www.kaggle.com/c/costa-rican-household-poverty-prediction/discussion/61403) from competition host, we can safely change the value to 5 as that is the maximum value for that variable. "
   ]
  },
  {
   "cell_type": "code",
   "execution_count": 23,
   "metadata": {},
   "outputs": [],
   "source": [
    "# Change outlier to 5\n",
    "test[['rez_esc'] == 99.0 , 'rez_esc'] = 5"
   ]
  },
  {
   "cell_type": "markdown",
   "metadata": {},
   "source": [
    "### Feature Engineering"
   ]
  },
  {
   "cell_type": "markdown",
   "metadata": {},
   "source": [
    "Our training and test datasets have been cleaned, and now it is time to do a bit of feature engineering. Feature engineering involves creating entirely new variables from our existing data. This will help our model to perform better by adding variables that will help it to predict poverty even better. \n",
    "\n",
    "The first variable that I think would be valuable to add is some sort of variable that takes into account all of the features of the house. The variables we have identified that are features of a house are:\n",
    "- `cielorazo` if house has ceiling\n",
    "- `epared1` walls bad, `epared2` walls regular, `epared3` walls good\n",
    "- `etecho1` roof bad, `etecho2` roof regular, `etecho3` roof bad\n",
    "- `eviv1` floor bad, `eviv2` floor regular, `eviv3`floor bad\n",
    "\n",
    "For the walls, floor, and roof variables, we are going to create some new ordinal variables to simplify things and then drop the old variables. "
   ]
  },
  {
   "cell_type": "code",
   "execution_count": 24,
   "metadata": {},
   "outputs": [],
   "source": [
    "# Create wall ordinal variable\n",
    "train['walls'] = np.argmax(np.array(train[['epared1', 'epared2', 'epared3']]),\n",
    "                           axis = 1)\n",
    "\n",
    "# Drop old wall variables\n",
    "train = train.drop(columns = ['epared1', 'epared2', 'epared3'])\n",
    "\n",
    "# Create roof ordinal variable\n",
    "train['roof'] = np.argmax(np.array(train[['etecho1', 'etecho2', 'etecho3']]),\n",
    "                           axis = 1)\n",
    "\n",
    "# Drop old roof variables\n",
    "train = train.drop(columns = ['etecho1', 'etecho2', 'etecho3'])\n",
    "\n",
    "# Create floor ordinal variabletrain\n",
    "train['floor'] = np.argmax(np.array(train[['eviv1', 'eviv2', 'eviv3']]),\n",
    "                           axis = 1)\n",
    "\n",
    "# Drop old floor variables\n",
    "train = train.drop(columns = ['eviv1', 'eviv2', 'eviv3'])"
   ]
  },
  {
   "cell_type": "markdown",
   "metadata": {},
   "source": [
    "Now that we have created ordinal variables for the family's walls, floor, and roof, we can go ahead and construct a new variable that is a combination of the three. This will allow us to have a sort of home quality score for each household. In addition to these new ordinal variables, we will also add the following home features to `homeScore`:\n",
    "- `cielorazo`\n",
    "- `energcocinar2`\n",
    "- `energcocinar3`\n",
    "- `abastaguadentro`\n",
    "- `paredblolad`\n",
    "- `pisomoscer`"
   ]
  },
  {
   "cell_type": "code",
   "execution_count": 25,
   "metadata": {},
   "outputs": [],
   "source": [
    "# Create new variable homeScore by adding our three new ordinal variables together and other home features\n",
    "train['homeScore'] = train['walls'] + train['roof'] + train['floor'] + 2*train['cielorazo'] + 2*train['energcocinar2'] + train['energcocinar3'] + train['abastaguadentro'] + train['paredblolad'] + train['pisomoscer']"
   ]
  },
  {
   "cell_type": "markdown",
   "metadata": {},
   "source": [
    "Now we have a `homeScore` variable, but I think there are some other features that may be helpful in predicting poverty level. Let's go ahead and create a similar feature for technology by creating a `techScore` variable. The features we will be including in `techScore` are:\n",
    "- `v18q`\n",
    "- `computer`\n",
    "- `mobilephone`\n",
    "- `television`\n",
    "- `refrig`\n",
    "\n",
    "Each of these features will give a point to their tech score. "
   ]
  },
  {
   "cell_type": "code",
   "execution_count": 26,
   "metadata": {},
   "outputs": [],
   "source": [
    "# Create new variable techScore by adding our tech variables together\n",
    "train['techScore'] = (train['v18q'] + train['computer'] + train['mobilephone'] + train['refrig']\n",
    "                      + train['television'] )"
   ]
  },
  {
   "cell_type": "markdown",
   "metadata": {},
   "source": [
    "Hopefully these `homeScore` and `techScore` variables will be helpful in predicting poverty level. We can go ahead and check if they will be helpful by analyzing our target and determining the correlation of all the variables. But before we do that, we're gonna go ahead and create these new variables in our test data as well. "
   ]
  },
  {
   "cell_type": "code",
   "execution_count": 27,
   "metadata": {},
   "outputs": [],
   "source": [
    "# Perform feature engineering on test dataset\n",
    "\n",
    "# Create wall ordinal variable\n",
    "test['walls'] = np.argmax(np.array(test[['epared1', 'epared2', 'epared3']]),\n",
    "                           axis = 1)\n",
    "\n",
    "# Drop old wall variables\n",
    "test = test.drop(columns = ['epared1', 'epared2', 'epared3'])\n",
    "\n",
    "# Create roof ordinal variable\n",
    "test['roof'] = np.argmax(np.array(test[['etecho1', 'etecho2', 'etecho3']]),\n",
    "                           axis = 1)\n",
    "\n",
    "# Drop old roof variables\n",
    "test = test.drop(columns = ['etecho1', 'etecho2', 'etecho3'])\n",
    "\n",
    "# Create floor ordinal variabletrain\n",
    "test['floor'] = np.argmax(np.array(test[['eviv1', 'eviv2', 'eviv3']]),\n",
    "                           axis = 1)\n",
    "\n",
    "# Drop old floor variables\n",
    "test = test.drop(columns = ['eviv1', 'eviv2', 'eviv3'])\n",
    "\n",
    "# Create new variable homeScore by adding our three new ordinal variables together\n",
    "test['homeScore'] = test['walls'] + test['roof'] + test['floor'] + 2*test['cielorazo'] + 2*test['energcocinar2'] + test['energcocinar3'] + test['abastaguadentro'] + test['paredblolad'] + test['pisomoscer']\n",
    "\n",
    "# Create new variable techScore by adding our tech variables together\n",
    "test['techScore'] = (test['v18q'] + test['computer'] + test['mobilephone'] + test['refrig']\n",
    "                      + test['television'] )"
   ]
  },
  {
   "cell_type": "markdown",
   "metadata": {},
   "source": [
    "### Analyze the Target"
   ]
  },
  {
   "cell_type": "markdown",
   "metadata": {},
   "source": [
    "Now that our data has been cleaned and we've done a bit of feature engineering, the next thing that we want to do is identify and analyze the target. In this case, our target is the `Target` column (which represents the poverty level on a scale from 1-4) as it is the variable that we will be trying to predict."
   ]
  },
  {
   "cell_type": "code",
   "execution_count": 28,
   "metadata": {},
   "outputs": [
    {
     "data": {
      "text/plain": [
       "count    9376.000000\n",
       "mean        3.302154\n",
       "std         1.010399\n",
       "min         1.000000\n",
       "25%         3.000000\n",
       "50%         4.000000\n",
       "75%         4.000000\n",
       "max         4.000000\n",
       "Name: Target, dtype: float64"
      ]
     },
     "execution_count": 28,
     "metadata": {},
     "output_type": "execute_result"
    }
   ],
   "source": [
    "# Descriptive summary of Target data\n",
    "target = train['Target']\n",
    "target.describe()"
   ]
  },
  {
   "cell_type": "markdown",
   "metadata": {},
   "source": [
    "We will also set apart our target variable `heads` which will be the poverty level of the head of household. This is the poverty level that we are trying to predict."
   ]
  },
  {
   "cell_type": "code",
   "execution_count": 29,
   "metadata": {},
   "outputs": [],
   "source": [
    "# Creating variable heads for poverty level of heads of households\n",
    "heads = train.loc[(train['parentesco1']==1), 'Target']"
   ]
  },
  {
   "cell_type": "markdown",
   "metadata": {},
   "source": [
    "The next thing we'll want to do is get an idea of the distribution of the `Target` classes. This will be helpful in understanding how balanced our data are. "
   ]
  },
  {
   "cell_type": "code",
   "execution_count": 30,
   "metadata": {
    "scrolled": false
   },
   "outputs": [
    {
     "data": {
      "text/plain": [
       "([<matplotlib.axis.XTick at 0x223ae5dc048>,\n",
       "  <matplotlib.axis.XTick at 0x223ae5fc7b8>,\n",
       "  <matplotlib.axis.XTick at 0x223ae5e1438>,\n",
       "  <matplotlib.axis.XTick at 0x223ae1fc278>],\n",
       " <a list of 4 Text xticklabel objects>)"
      ]
     },
     "execution_count": 30,
     "metadata": {},
     "output_type": "execute_result"
    },
    {
     "data": {
      "image/png": "[encoded data removed]",
      "text/plain": [
       "<Figure size 576x432 with 1 Axes>"
      ]
     },
     "metadata": {},
     "output_type": "display_data"
    }
   ],
   "source": [
    "# Display the distribution of our target variable classes\n",
    "f, ax = plt.subplots(figsize=(8, 6))\n",
    "sns.countplot(heads)\n",
    "plt.title('Poverty Classes Distribution', fontsize=14)\n",
    "plt.xlabel('Target Class', fontsize=12)\n",
    "plt.ylabel('# of Households', fontsize=12)\n",
    "plt.xticks([0, 1, 2, 3],\n",
    "           ['(1) Extreme Poverty', '(2) Moderate Poverty', '(3) Vulnerable Households', '(4) Non-Vulnerable Households'],\n",
    "          rotation = 50)"
   ]
  },
  {
   "cell_type": "markdown",
   "metadata": {},
   "source": [
    "From a social perspective this distribution is great as the number of \"non-vulnerable\" households dwarf the remaining three classes, however it is not an ideal distribution for machine learning purposes because it is so imbalanced. Imbalanced data is not ideal because it is difficult for our models to predict minority classes since they don't get to see many examples of them in comparison to the \"non-vulnerable\" class. We will address this problem later on. "
   ]
  },
  {
   "cell_type": "markdown",
   "metadata": {},
   "source": [
    "#### Correlation Heatmap"
   ]
  },
  {
   "cell_type": "markdown",
   "metadata": {},
   "source": [
    "The next way we are going to analyze our target variable is by identifying which variables have the highest correlation with it. This will help us to determine which variables are the most important in helping to predict the target variable. Because we have so many variables, we are only going to display the variables with the highest correlation. "
   ]
  },
  {
   "cell_type": "code",
   "execution_count": 31,
   "metadata": {},
   "outputs": [
    {
     "data": {
      "image/png": "[encoded data removed]",
      "text/plain": [
       "<Figure size 864x648 with 2 Axes>"
      ]
     },
     "metadata": {},
     "output_type": "display_data"
    }
   ],
   "source": [
    "# Create array with the most predictive variables\n",
    "v = ['Target', 'homeScore', 'techScore', 'meaneduc',\n",
    "             'pisomoscer', 'escolari', 'overcrowding', 'paredblolad']\n",
    "\n",
    "# Calculate the correlations\n",
    "corrm = train[v].corr().round(2)\n",
    "\n",
    "# # Create a Target variable heatmap\n",
    "plt.rcParams['font.size'] = 18\n",
    "plt.figure(figsize = (12, 9))\n",
    "sns.heatmap(corrm, cbar=True, annot=True, square=True, yticklabels=v, xticklabels=v, cmap=\"Purples\");"
   ]
  },
  {
   "cell_type": "markdown",
   "metadata": {},
   "source": [
    "In the above heatmap, we can see the correlation between our prediction variables and our target variable. The good news is that our `homeScore` and `techScore` variables we created are outperforming the rest of our prediction variables. This means all that feature engineering was worth it!\n",
    "\n",
    "Now let's create some point plots between poverty level and these highly correlated variables to see what we can learn."
   ]
  },
  {
   "cell_type": "code",
   "execution_count": 32,
   "metadata": {},
   "outputs": [
    {
     "data": {
      "image/png": "[encoded data removed]",
      "text/plain": [
       "<Figure size 576x432 with 1 Axes>"
      ]
     },
     "metadata": {},
     "output_type": "display_data"
    },
    {
     "data": {
      "image/png": "[encoded data removed]",
      "text/plain": [
       "<Figure size 576x432 with 1 Axes>"
      ]
     },
     "metadata": {},
     "output_type": "display_data"
    }
   ],
   "source": [
    "# Use pointplot to see the relationship between the target variable and our homeScore and techScore variables\n",
    "f, ax = plt.subplots(figsize=(8, 6))\n",
    "sns.pointplot(x = train['homeScore'], y = heads)\n",
    "plt.xlabel('Home Score', fontsize=10)\n",
    "plt.ylabel('Mean Poverty Level', fontsize=10)\n",
    "plt.title('Poverty Level vs. Home Score', fontsize=15)\n",
    "plt.show();\n",
    "\n",
    "f, ax = plt.subplots(figsize=(8, 6))\n",
    "sns.pointplot(x = train['techScore'], y = heads)\n",
    "plt.xlabel('Tech Score', fontsize=10)\n",
    "plt.ylabel('Mean Poverty Level', fontsize=10)\n",
    "plt.title('Poverty Level vs. Tech Score', fontsize=15)\n",
    "plt.show();"
   ]
  },
  {
   "cell_type": "markdown",
   "metadata": {},
   "source": [
    "The above graphs show that, as we expected, as poverty increases, our  `homeScore` and `techScore` increase as well. "
   ]
  },
  {
   "cell_type": "markdown",
   "metadata": {},
   "source": [
    "Let's take a closer look at the distributions of our `homeScore` and `techScore` variables we've created. "
   ]
  },
  {
   "cell_type": "code",
   "execution_count": 33,
   "metadata": {},
   "outputs": [
    {
     "data": {
      "text/plain": [
       "Text(0,0.5,'Mean Poverty Level')"
      ]
     },
     "execution_count": 33,
     "metadata": {},
     "output_type": "execute_result"
    },
    {
     "data": {
      "image/png": "[encoded data removed]",
      "text/plain": [
       "<Figure size 576x432 with 1 Axes>"
      ]
     },
     "metadata": {},
     "output_type": "display_data"
    }
   ],
   "source": [
    "f, ax = plt.subplots(figsize=(8, 6))\n",
    "sns.barplot(x = 'homeScore', y = heads, data = train)\n",
    "plt.title('Mean Poverty Level by Home Score', fontsize=15)\n",
    "plt.xlabel('Home Score', fontsize=12)\n",
    "plt.ylabel('Mean Poverty Level', fontsize=12)"
   ]
  },
  {
   "cell_type": "code",
   "execution_count": 34,
   "metadata": {},
   "outputs": [
    {
     "data": {
      "text/plain": [
       "Text(0,0.5,'Mean Poverty Level')"
      ]
     },
     "execution_count": 34,
     "metadata": {},
     "output_type": "execute_result"
    },
    {
     "data": {
      "image/png": "[encoded data removed]",
      "text/plain": [
       "<Figure size 576x432 with 1 Axes>"
      ]
     },
     "metadata": {},
     "output_type": "display_data"
    }
   ],
   "source": [
    "f, ax = plt.subplots(figsize=(8, 6))\n",
    "sns.barplot(x = 'techScore', y = heads, data = train)\n",
    "plt.title('Mean Poverty Level by Tech Score', fontsize=15)\n",
    "plt.xlabel('Tech Score', fontsize=12)\n",
    "plt.ylabel('Mean Poverty Level', fontsize=12)"
   ]
  },
  {
   "cell_type": "markdown",
   "metadata": {},
   "source": [
    "For the most part, this is exactly what we wanted to see. As families have a higher quality home or more technology, they are for the most part more wealthy and not in danger of living in poverty. These should be very helpful when it comes to predicting poverty level. "
   ]
  },
  {
   "cell_type": "markdown",
   "metadata": {},
   "source": [
    "Now let's look at at a couple violin plots to get an understanding of the distribution of education, home score, and tech score. Violion plots are helpful as they show the distribution of quantitative data across several classes which is perfect for our data. "
   ]
  },
  {
   "cell_type": "code",
   "execution_count": 35,
   "metadata": {},
   "outputs": [
    {
     "data": {
      "image/png": "[encoded data removed]",
      "text/plain": [
       "<Figure size 576x432 with 1 Axes>"
      ]
     },
     "metadata": {},
     "output_type": "display_data"
    }
   ],
   "source": [
    "plt.figure(figsize = (8, 6))\n",
    "sns.violinplot(x = heads, y = 'meaneduc', data = train);\n",
    "plt.ylabel('Education', fontsize=12)\n",
    "plt.xlabel('Poverty Level', fontsize=12)\n",
    "plt.title('Education Distribution by Target', fontsize=15);"
   ]
  },
  {
   "cell_type": "code",
   "execution_count": 36,
   "metadata": {},
   "outputs": [
    {
     "data": {
      "image/png": "[encoded data removed]",
      "text/plain": [
       "<Figure size 576x432 with 1 Axes>"
      ]
     },
     "metadata": {},
     "output_type": "display_data"
    }
   ],
   "source": [
    "plt.figure(figsize = (8, 6))\n",
    "sns.violinplot(x = heads, y = 'homeScore', data = train);\n",
    "plt.ylabel('Home Score', fontsize=12)\n",
    "plt.xlabel('Poverty Level', fontsize=12)\n",
    "plt.title('Home Score by Target', fontsize=15);"
   ]
  },
  {
   "cell_type": "code",
   "execution_count": 37,
   "metadata": {},
   "outputs": [
    {
     "data": {
      "image/png": "[encoded data removed]",
      "text/plain": [
       "<Figure size 576x432 with 1 Axes>"
      ]
     },
     "metadata": {},
     "output_type": "display_data"
    }
   ],
   "source": [
    "plt.figure(figsize = (8, 6))\n",
    "sns.violinplot(x = heads, y = 'techScore', data = train);\n",
    "plt.ylabel('Tech Score', fontsize=12)\n",
    "plt.xlabel('Poverty Level', fontsize=12)\n",
    "plt.title('Tech Score Distribution by Target', fontsize=15);"
   ]
  },
  {
   "cell_type": "markdown",
   "metadata": {},
   "source": [
    "These violin plots are somewhat helpful as they show that our predictor variables may not be perfect. There seems to be quite a lot of crossover in where the majority of the distribution lies especially with education (although class 4 aka the wealthy has a very long whisker coming out of the top)."
   ]
  },
  {
   "cell_type": "markdown",
   "metadata": {},
   "source": [
    "Now we can do a bit more visualization of our predictor variables by looking at the relationship between poverty level and `cielorazo` which is whether or not the house has a cieling. This variable is included in our `homeScore` but may be interesting to look at regardless. "
   ]
  },
  {
   "cell_type": "code",
   "execution_count": 38,
   "metadata": {},
   "outputs": [
    {
     "data": {
      "text/plain": [
       "Text(466.533,0.5,'Count')"
      ]
     },
     "execution_count": 38,
     "metadata": {},
     "output_type": "execute_result"
    },
    {
     "data": {
      "image/png": "[encoded data removed]",
      "text/plain": [
       "<Figure size 864x216 with 2 Axes>"
      ]
     },
     "metadata": {},
     "output_type": "display_data"
    }
   ],
   "source": [
    "# Use pointplot to see the relationship between the target variable and cielorazo\n",
    "plot = sns.FacetGrid(data = train, col ='cielorazo', aspect=2, margin_titles = True)\n",
    "plot.map(sns.distplot, 'Target')\n",
    "plt.ylabel('Count', fontsize=12)"
   ]
  },
  {
   "cell_type": "markdown",
   "metadata": {},
   "source": [
    "Here we can see the distributions of poverty levels of families who have homes with a roof (cielorazo = 1) vs. families without one (cielorazo = 0). It is obvious to see that families who have a roof on their home are in general much better off. "
   ]
  },
  {
   "cell_type": "markdown",
   "metadata": {},
   "source": [
    "Now let's look at one more pointplot to look closer at the relationship between the target variable and years of education. "
   ]
  },
  {
   "cell_type": "code",
   "execution_count": 39,
   "metadata": {},
   "outputs": [
    {
     "data": {
      "image/png": "[encoded data removed]",
      "text/plain": [
       "<Figure size 576x432 with 1 Axes>"
      ]
     },
     "metadata": {},
     "output_type": "display_data"
    }
   ],
   "source": [
    "# Use pointplot to see the relationship between the target variable and years of education\n",
    "f, ax = plt.subplots(figsize=(8, 6))\n",
    "sns.pointplot(x = train['escolari'], y = heads)\n",
    "plt.xlabel('Years of Education', fontsize=10)\n",
    "plt.ylabel('Mean Poverty Level', fontsize=10)\n",
    "plt.title('Poverty Level vs. Years of Education', fontsize=15)\n",
    "plt.show();"
   ]
  },
  {
   "cell_type": "markdown",
   "metadata": {},
   "source": [
    "Once again, as we expect, as years of education increases, we see their poverty level decrease (or increase in terms of our classes)."
   ]
  },
  {
   "cell_type": "markdown",
   "metadata": {},
   "source": [
    "### Model Fitting & Evaluation"
   ]
  },
  {
   "cell_type": "markdown",
   "metadata": {},
   "source": [
    "Now that we've analyzed our target variable and looked closer at how our variables that are correlated with poverty level, it's time to build our models. The goal is to use machine learning techniques to learn from our training data the relationship between a set of variables and our target variable (which we want to predict).\n",
    "\n",
    "In order to determine which of our models is the best, we need to decide on a metric that we will use to evaluate all of our models. As opposed to regression models that are evaulated on mean squared error (MSE), with classification problems we will be evaluating our models based on an F1 score. It is the harmonic mean of precision and recall. The harmonic mean is used because it tends strongly towards the smallest element being averaged. If either precision or recall is 0 then your F1 is zero. The best F1 score is one."
   ]
  },
  {
   "cell_type": "markdown",
   "metadata": {},
   "source": [
    "But first, we are going to drop our target variable from our training set and are going to implement a train/test split.  By splitting the data into a training set and a test set, we can improve our F1 results. \n",
    "\n",
    "In addition to improving our F1 score, the train/test split should also help to avoid any over-fitting of our data."
   ]
  },
  {
   "cell_type": "code",
   "execution_count": 40,
   "metadata": {},
   "outputs": [],
   "source": [
    "# First we need to drop our Target variable from the training set\n",
    "train = train.drop(['Target'], axis = 1).reset_index(drop = True)\n",
    "\n",
    "# Only keep columns in test that are also found in train\n",
    "train = train.reindex(columns = test.columns, fill_value=0)"
   ]
  },
  {
   "cell_type": "code",
   "execution_count": 42,
   "metadata": {},
   "outputs": [],
   "source": [
    "# Splitting the data into two datasets (training and test)\n",
    "X_train, X_test, y_train, y_test = train_test_split(train, target, test_size=0.20, random_state=42)"
   ]
  },
  {
   "cell_type": "markdown",
   "metadata": {},
   "source": [
    "#### Cross Validation Baseline"
   ]
  },
  {
   "cell_type": "markdown",
   "metadata": {},
   "source": [
    "Before we do anything else, I'd like to quickly run a few different models to get an idea of what our F1 score will be with each one using cross validation. Once we've done that, we can go through one by one, dig in a littler deeper, and tune the hyper-parameters for each one. "
   ]
  },
  {
   "cell_type": "code",
   "execution_count": 44,
   "metadata": {},
   "outputs": [],
   "source": [
    "# Create function to cross validate our models\n",
    "def test_clf(clf):\n",
    "    score = cross_val_score(clf, train, target, scoring = 'f1_macro', cv = 10)\n",
    "    print(clf.__class__.__name__,\"Score =\", score.mean())"
   ]
  },
  {
   "cell_type": "code",
   "execution_count": 45,
   "metadata": {},
   "outputs": [
    {
     "name": "stdout",
     "output_type": "stream",
     "text": [
      "RandomForestClassifier Score = 0.3333095011609159\n",
      "KNeighborsClassifier Score = 0.3271666464877413\n",
      "SVC Score = 0.2052294802609921\n",
      "GaussianNB Score = 0.36829000972334536\n"
     ]
    }
   ],
   "source": [
    "# Run a few models we will be testing \n",
    "rf = RandomForestClassifier()\n",
    "knn = KNeighborsClassifier()\n",
    "svc = SVC()\n",
    "gnb = GaussianNB()\n",
    "\n",
    "models = [rf, knn, svc, gnb]\n",
    "for clf in models:\n",
    "    test_clf(clf)"
   ]
  },
  {
   "cell_type": "markdown",
   "metadata": {},
   "source": [
    "Of these models that I ran, GaussianNB and Random Forest outperformed the SVC and K-Nearest Neighbors. This is helpful because now we have an idea of which models might be best suited for our poverty classification problem. "
   ]
  },
  {
   "cell_type": "markdown",
   "metadata": {},
   "source": [
    "### Fix Imbalanced Data"
   ]
  },
  {
   "cell_type": "markdown",
   "metadata": {},
   "source": [
    "Before we go on to hypertuning our models, let's go ahead and deal with our imbalanced data issue. In order to fix this problem of imbalanced data, we are going to use the method of oversampling. \n",
    "\n",
    "Oversampling is a technique that can be used to handle inbalanced data. What oversampling does is it shows our model more examples of the minority classes (1-3 on our poverty scale) in order to help it to do a better job of predicting this under-represented classes. "
   ]
  },
  {
   "cell_type": "code",
   "execution_count": 46,
   "metadata": {},
   "outputs": [],
   "source": [
    "# Create new training sets with oversampling\n",
    "ros = RandomOverSampler(random_state=42)\n",
    "X_res, y_res = ros.fit_sample(X_train, y_train)"
   ]
  },
  {
   "cell_type": "markdown",
   "metadata": {},
   "source": [
    "Let's see if the oversampling worked by showing our new distribution of the resampled training data."
   ]
  },
  {
   "cell_type": "code",
   "execution_count": 47,
   "metadata": {},
   "outputs": [
    {
     "data": {
      "text/plain": [
       "Text(0.5,0,'Poverty Level')"
      ]
     },
     "execution_count": 47,
     "metadata": {},
     "output_type": "execute_result"
    },
    {
     "data": {
      "image/png": "[encoded data removed]",
      "text/plain": [
       "<Figure size 432x288 with 1 Axes>"
      ]
     },
     "metadata": {},
     "output_type": "display_data"
    }
   ],
   "source": [
    "# Display resampled training data\n",
    "sns.countplot(y_res)\n",
    "plt.xlabel('Poverty Level')"
   ]
  },
  {
   "cell_type": "markdown",
   "metadata": {},
   "source": [
    "Nice! Looks like it worked perfectly. \n",
    "\n",
    "Now let's go ahead and create a function that will evaluate our models. This function, evaluation_metrics, returns the accuracy, precision, recall, and f1 metrics for both the train and test set."
   ]
  },
  {
   "cell_type": "code",
   "execution_count": 48,
   "metadata": {},
   "outputs": [],
   "source": [
    "# Create function to evaluate models\n",
    "def evaluation_metrics(y_res, y_test, train_predictions, test_predictions):\n",
    "    rounding = 2\n",
    "    print('Accuracy:')\n",
    "    print(\"  Train: {}\".format(round(accuracy_score(y_res, train_predictions),rounding)), \"  Test: {}\".format(round(accuracy_score(y_test, test_predictions),rounding)))\n",
    "\n",
    "    print('Precision:')\n",
    "    print(\"  Train: {}\".format(round(precision_recall_fscore_support(y_res, train_predictions, average=None)[0][0],rounding)), \"  Test: {}\".format(round(precision_recall_fscore_support(y_test, test_predictions)[0][0],rounding)))\n",
    "\n",
    "    print('Recall:')\n",
    "    print(\"  Train: {}\".format(round(precision_recall_fscore_support(y_res, train_predictions, average=None)[1][0],rounding)), \"  Test: {}\".format(round(precision_recall_fscore_support(y_test, test_predictions)[1][0],rounding)))\n",
    "\n",
    "    print('F1:')\n",
    "    print(\"  Train: {}\".format(round(precision_recall_fscore_support(y_res, train_predictions,  average=None)[2][0],rounding)), \"  Test: {}\".format(round(precision_recall_fscore_support(y_test, test_predictions)[2][0],rounding)))"
   ]
  },
  {
   "cell_type": "markdown",
   "metadata": {},
   "source": [
    "We have our new oversampled data and our function for evaluating models we created. Let's get to hypertuning our models! The first model we'll start with is a basic logistic classifier. We'll use this as a sort of baseline."
   ]
  },
  {
   "cell_type": "markdown",
   "metadata": {},
   "source": [
    "#### Logistic Classifier"
   ]
  },
  {
   "cell_type": "markdown",
   "metadata": {},
   "source": [
    "The logistic classifier starts with a cost function, calculates gradients (the logistic cost function is convex and has a single global minimum) and then uses a gradient descent algorithm to determine coefficient values that minimize the defined cost function. "
   ]
  },
  {
   "cell_type": "code",
   "execution_count": 49,
   "metadata": {},
   "outputs": [],
   "source": [
    "# Fit a model with the default penalty, l2\n",
    "lr = linear_model.LogisticRegression(penalty='l2')\n",
    "lr.fit(X_res, y_res)\n",
    "lr_train_predictions = lr.predict(X_res)\n",
    "lr_test_predictions = lr.predict(X_test)"
   ]
  },
  {
   "cell_type": "code",
   "execution_count": 50,
   "metadata": {},
   "outputs": [
    {
     "name": "stdout",
     "output_type": "stream",
     "text": [
      "Accuracy:\n",
      "  Train: 0.48   Test: 0.58\n",
      "Precision:\n",
      "  Train: 0.47   Test: 0.26\n",
      "Recall:\n",
      "  Train: 0.56   Test: 0.59\n",
      "F1:\n",
      "  Train: 0.51   Test: 0.36\n"
     ]
    }
   ],
   "source": [
    "# Print evaluation metrics\n",
    "evaluation_metrics(y_res, y_test, lr_train_predictions, lr_test_predictions)"
   ]
  },
  {
   "cell_type": "markdown",
   "metadata": {},
   "source": [
    "Could be worse! Our first model achieved 58% accuracy and an F1 score of .36. Our precision wasn't great as it was only 26%. The good news is our oversampling has already helped a bit with our F1 score. Let's see if we can beat it!"
   ]
  },
  {
   "cell_type": "markdown",
   "metadata": {},
   "source": [
    "#### K-Nearest Neighbors"
   ]
  },
  {
   "cell_type": "markdown",
   "metadata": {},
   "source": [
    "The next model we'll try out is K-nearest neighbors. K-nearest neighbors is a model that looks at a datapoints closest neighbors in order to predict what class it most likely is. The K refers to how many neighbors to consider when classifying a new data point.\n",
    "\n",
    "As a reminder, here are the steps of k-nearest neighbors:\n",
    "\n",
    "- Define k (where a high value of k has more bias, and a low k has more variance)\n",
    "- Define a distance metric (usually Euclidean distance)\n",
    "- For a new data point, find the k nearest training points and combine the classes in some way, usually voting, to get a predicted class."
   ]
  },
  {
   "cell_type": "code",
   "execution_count": 68,
   "metadata": {
    "scrolled": true
   },
   "outputs": [
    {
     "name": "stdout",
     "output_type": "stream",
     "text": [
      "Best Params: {'n_neighbors': 5, 'p': 1, 'weights': 'distance'}\n"
     ]
    }
   ],
   "source": [
    "# Create K-nearest neighbors model \n",
    "param_dist = {\"n_neighbors\": [5, 7, 9, 11], \"weights\": ['distance'], 'p': [1, 2, 3]}\n",
    "model = KNeighborsClassifier()\n",
    "knn = GridSearchCV(model, param_grid = param_dist, scoring='f1_macro')\n",
    "knn.fit(X_res, y_res)\n",
    "knn_train_predictions = knn.predict(X_res)\n",
    "knn_test_predictions = knn.predict(X_test)\n",
    "print(\"Best Params: {}\".format(knn.best_params_))"
   ]
  },
  {
   "cell_type": "code",
   "execution_count": 69,
   "metadata": {},
   "outputs": [
    {
     "name": "stdout",
     "output_type": "stream",
     "text": [
      "Accuracy:\n",
      "  Train: 1.0   Test: 0.5\n",
      "Precision:\n",
      "  Train: 1.0   Test: 0.28\n",
      "Recall:\n",
      "  Train: 1.0   Test: 0.43\n",
      "F1:\n",
      "  Train: 1.0   Test: 0.34\n"
     ]
    }
   ],
   "source": [
    "# Print evaluation metrics\n",
    "evaluation_metrics(y_res, y_test, knn_train_predictions, knn_test_predictions)"
   ]
  },
  {
   "cell_type": "markdown",
   "metadata": {},
   "source": [
    "Our K-Nearest Neighbors model hasn't performed quite as well in terms of F1 score as our baseline Linear regression. We didn't expect it to do terribly well given our cross validation screen above, so we'll move on to Naive Bayes. "
   ]
  },
  {
   "cell_type": "markdown",
   "metadata": {},
   "source": [
    "#### Naive Bayes"
   ]
  },
  {
   "cell_type": "markdown",
   "metadata": {},
   "source": [
    "Bayes theorem allows us to go from a prior and sampling distribution to a posterior distribution, where the sampling distribution is the probability of seeing our data given our parameters. We want the posterior, or the probability of our parameters given our data and are typically given data and want to figure out what parameters are most likely given our data.\n",
    "\n",
    "With that background about Bayes Theorem in mind, Naive Bayes basically calculates the probability of one of our classes given our data. The prior is easy to calculate (its just the probability of being in that class as seen in the training data). In this case, we'll use the Gaussian distribution as our likelihood."
   ]
  },
  {
   "cell_type": "code",
   "execution_count": 53,
   "metadata": {},
   "outputs": [],
   "source": [
    "# Gaussian Naive Bayes \n",
    "nb = GaussianNB()\n",
    "nb.fit(X_res, y_res)\n",
    "nb_train_predictions = nb.predict(X_res)\n",
    "nb_test_predictions = nb.predict(X_test)"
   ]
  },
  {
   "cell_type": "code",
   "execution_count": 54,
   "metadata": {},
   "outputs": [
    {
     "name": "stdout",
     "output_type": "stream",
     "text": [
      "Accuracy:\n",
      "  Train: 0.42   Test: 0.5\n",
      "Precision:\n",
      "  Train: 0.5   Test: 0.29\n",
      "Recall:\n",
      "  Train: 0.36   Test: 0.42\n",
      "F1:\n",
      "  Train: 0.42   Test: 0.34\n"
     ]
    }
   ],
   "source": [
    "# Print evaluation metrics\n",
    "evaluation_metrics(y_res, y_test, nb_train_predictions, nb_test_predictions)"
   ]
  },
  {
   "cell_type": "markdown",
   "metadata": {},
   "source": [
    "It looks like our Naive Bayes model has gotten us the same exact F1 score as the above K-nearest neighbors mode with a score of .34. In this case, it looks like the oversampling may have only helped a marginal amount. "
   ]
  },
  {
   "cell_type": "markdown",
   "metadata": {},
   "source": [
    "#### Decision Tree"
   ]
  },
  {
   "cell_type": "markdown",
   "metadata": {},
   "source": [
    "Decision trees are very intuitive and easy to understand.  Once you have a tree, you just follow the forks down for your example to get to an end node. Then at that end node you take the most common class or average value for regression. In fact, with classification you can get probabilistic estimates by taking the fraction of examples in that class.\n",
    "\n",
    "Some pros of decision trees:\n",
    "- easy to explain\n",
    "- can be visualized\n",
    "- can handle categorical variables and missing data well\n",
    "\n",
    "Some cons of decision trees:\n",
    "- typically don't have very strong prediction accuracy \n",
    "- very sensitive to small changes in training data\n",
    "\n",
    "Let's try it out!"
   ]
  },
  {
   "cell_type": "code",
   "execution_count": 55,
   "metadata": {},
   "outputs": [
    {
     "name": "stdout",
     "output_type": "stream",
     "text": [
      "Best Params: {'criterion': 'entropy', 'max_depth': 7}\n"
     ]
    }
   ],
   "source": [
    "# Creating decision tree model\n",
    "param_dist = {\"max_depth\":[3,5,7], \"criterion\": ['gini', 'entropy']}\n",
    "model = DecisionTreeClassifier()\n",
    "dt = GridSearchCV(model, param_grid = param_dist, scoring='f1_macro')\n",
    "dt.fit(X_res, y_res)\n",
    "dt_train_predictions = dt.predict(X_res)\n",
    "dt_test_predictions = dt.predict(X_test)\n",
    "print(\"Best Params: {}\".format(dt.best_params_))"
   ]
  },
  {
   "cell_type": "code",
   "execution_count": 56,
   "metadata": {},
   "outputs": [
    {
     "name": "stdout",
     "output_type": "stream",
     "text": [
      "Accuracy:\n",
      "  Train: 0.57   Test: 0.53\n",
      "Precision:\n",
      "  Train: 0.57   Test: 0.28\n",
      "Recall:\n",
      "  Train: 0.71   Test: 0.66\n",
      "F1:\n",
      "  Train: 0.64   Test: 0.39\n"
     ]
    }
   ],
   "source": [
    "# Print evaluation metrics\n",
    "evaluation_metrics(y_res, y_test, dt_train_predictions, dt_test_predictions)"
   ]
  },
  {
   "cell_type": "markdown",
   "metadata": {},
   "source": [
    "Our decision tree got us an F1 score of .39 which isn't great, but it's the best so far! Let's keep on going. "
   ]
  },
  {
   "cell_type": "markdown",
   "metadata": {},
   "source": [
    "#### Random Forest"
   ]
  },
  {
   "cell_type": "markdown",
   "metadata": {},
   "source": [
    "The fundamental idea of a random forest model is that combining weak learners (decision trees) can led to a strong learner (random forests). It is an ensemble model, meaning that a group of models are used together to make a prediction. The cost of doing so is the ability to interpret the model. Also, we would like each of the trees to be as varied as possible; if they are very correlated then we do not gain much."
   ]
  },
  {
   "cell_type": "code",
   "execution_count": 57,
   "metadata": {},
   "outputs": [
    {
     "name": "stdout",
     "output_type": "stream",
     "text": [
      "Test Classification Report:\n",
      "             precision    recall  f1-score   support\n",
      "\n",
      "          1       0.64      0.85      0.73       151\n",
      "          2       0.74      0.76      0.75       322\n",
      "          3       0.64      0.84      0.72       236\n",
      "          4       0.95      0.84      0.89      1167\n",
      "\n",
      "avg / total       0.85      0.83      0.83      1876\n",
      "\n"
     ]
    }
   ],
   "source": [
    "# Create Random Forest Model\n",
    "clf = RandomForestClassifier(n_estimators=1000, max_depth=10)\n",
    "clf.fit(X_res, y_res)\n",
    "test_predictions = clf.predict(X_test)\n",
    "print(\"Test Classification Report:\")\n",
    "print(classification_report(y_test, test_predictions))"
   ]
  },
  {
   "cell_type": "markdown",
   "metadata": {},
   "source": [
    "Look at that! Our random forest model has performed quite well compared to everything else. Our average F1 score was **.83** which is a huge improvement since we fixed our imbalanced data. "
   ]
  },
  {
   "cell_type": "markdown",
   "metadata": {},
   "source": [
    "### Model Interpretation "
   ]
  },
  {
   "cell_type": "markdown",
   "metadata": {},
   "source": [
    "Overall, our Random Forest model was the best at predicting our target variable, poverty level. Let's go ahead and take a closer look at what is driving our predictions in this model."
   ]
  },
  {
   "cell_type": "code",
   "execution_count": 58,
   "metadata": {},
   "outputs": [],
   "source": [
    "# Fit model using 'best' parameters from above\n",
    "rff = RandomForestClassifier(n_estimators = 1000, max_depth = 10)\n",
    "rff.fit(X_train, y_train)\n",
    "\n",
    "# Determine feature importance\n",
    "feature_imp = sorted(list(zip(train.columns, rff.feature_importances_)), key=lambda x: x[1], reverse=True)\n",
    "\n",
    "# Narrow it down to top 12 features\n",
    "feature_imp = feature_imp[0:12]"
   ]
  },
  {
   "cell_type": "code",
   "execution_count": 66,
   "metadata": {},
   "outputs": [
    {
     "data": {
      "text/plain": [
       "Text(0.5,1,'Most Predictive Features in Resampled Random Forest Model')"
      ]
     },
     "execution_count": 66,
     "metadata": {},
     "output_type": "execute_result"
    },
    {
     "data": {
      "image/png": "[encoded data removed]",
      "text/plain": [
       "<Figure size 864x576 with 1 Axes>"
      ]
     },
     "metadata": {},
     "output_type": "display_data"
    }
   ],
   "source": [
    "# Plot the top 12 features\n",
    "f, ax = plt.subplots(figsize=(12,8))\n",
    "pd.Series([x[1] for x in feature_imp], index=[x[0] for x in feature_imp]).plot(kind='bar')\n",
    "plt.ylabel('Level of Importance', fontsize=14)\n",
    "plt.xlabel('Features', fontsize=14)\n",
    "plt.xticks(rotation = 50)\n",
    "plt.title('Most Predictive Features in Resampled Random Forest Model', fontsize=15)"
   ]
  },
  {
   "cell_type": "markdown",
   "metadata": {},
   "source": [
    "In the above bar graph, we can see the twelve most important predictor variables to our random forest model. It is nice to see that our `homeScore` and `techScore` variables we created both made the top 12 -- our feature engineering helped! Another interesting thing to note is I've run this model a few times and because it is a random forest, these bars do change slightly every time. But the changes aren't drastic, just slight differences caused by the randomness of the model. "
   ]
  },
  {
   "cell_type": "markdown",
   "metadata": {},
   "source": [
    "### Model Graveyard"
   ]
  },
  {
   "cell_type": "markdown",
   "metadata": {},
   "source": [
    "Unfortunately, two of the models that I tried, SVM and Gradient Boosting, were too much for my machine to handle. I've included them below despite not having any evaluation metrics to learn from."
   ]
  },
  {
   "cell_type": "markdown",
   "metadata": {},
   "source": [
    "#### SVM"
   ]
  },
  {
   "cell_type": "markdown",
   "metadata": {},
   "source": [
    "SVM chooses a hyperplane to separate the classes, implying that we only care about data points from each class that are closest to the separating hyperplane. These points are called support vectors. Hence the name of the model, support vector machine. With a soft-margin classifier, the trick is finding a balance between a max-margin classifier and limiting the number of margin violations, which are the data points that fall on the wrong side of the hyperplane."
   ]
  },
  {
   "cell_type": "code",
   "execution_count": null,
   "metadata": {},
   "outputs": [],
   "source": [
    "# SVM \n",
    "param_dist = {\"C\": [0.2, 0.5, 0.7], \"kernel\": ['linear', 'poly', 'rbf'], 'degree': [1,2,3]}\n",
    "model = SVC()\n",
    "svm = GridSearchCV(model, param_grid = param_dist, scoring='f1_macro')\n",
    "svm.fit(X_res, y_res)\n",
    "svm_train_predictions = svm.predict(X_res)\n",
    "svm_test_predictions = svm.predict(X_test)\n",
    "print(\"Best Params: {}\".format(svm.best_params_))"
   ]
  },
  {
   "cell_type": "code",
   "execution_count": null,
   "metadata": {},
   "outputs": [],
   "source": [
    "# Print evaluation metrics\n",
    "evaluation_metrics(y_res, y_test, svm_train_predictions, svm_test_predictions)"
   ]
  },
  {
   "cell_type": "markdown",
   "metadata": {},
   "source": [
    "Unfortunately, my machine couldn't handle trying to tune this model :( so we're going to have to just refer to it's initial cross validation score above which was an f1 score of .2 which was the worst of the models we tried. "
   ]
  },
  {
   "cell_type": "markdown",
   "metadata": {},
   "source": [
    "#### Gradient Boosting"
   ]
  },
  {
   "cell_type": "markdown",
   "metadata": {},
   "source": [
    "Boosting is an ensemble technique like random forests. With random forests, decision trees are trained independently and create independence by randomly sampling samples and features. Boosting trains multiple models sequentially where each each model tries to improve on the areas where the previous models performed poorly."
   ]
  },
  {
   "cell_type": "code",
   "execution_count": null,
   "metadata": {},
   "outputs": [],
   "source": [
    "# Gradient Boosting model\n",
    "clf = GradientBoostingClassifier()\n",
    "gridsearch = GridSearchCV(clf, {\"learning_rate\": [.1, .01, .001], \"n_estimators\": [100, 1000, 5000], 'max_depth': [1, 2, 3]}, scoring='f1_macro')\n",
    "gridsearch.fit(X_res, y_res)"
   ]
  },
  {
   "cell_type": "code",
   "execution_count": null,
   "metadata": {},
   "outputs": [],
   "source": [
    "# Print evaluation metrics\n",
    "print(\"Best Params: {}\".format(gridsearch.best_params_))\n",
    "print(\"\\nClassification Report:\")\n",
    "print(classification_report(y_test, gridsearch.predict(X_test)))"
   ]
  },
  {
   "cell_type": "markdown",
   "metadata": {},
   "source": [
    "Once again, my machine couldn't handle the gradient boosting model. It's a bummer because I really wanted to see how it would fare compared to the Random Forest model. Oh well!"
   ]
  },
  {
   "cell_type": "markdown",
   "metadata": {},
   "source": [
    "### Conclusion"
   ]
  },
  {
   "cell_type": "markdown",
   "metadata": {},
   "source": [
    "That's it! We've fit five or so different models to predict the level of poverty of households in Costa Rica. \n",
    "\n",
    "In conclusion, throughout this notebook we introduced to the problem of Costa Rican poverty classification, then explored the dataset, cleaned the dataset, worked on feature engineering, tried out multiple machine learning models, optimized the models, and have concluded that our Random Forest model was the best at predicting Costa Rican poverty levels with an F1 score of .83. It's far from perfect, but I think it does a decent enough job to be helpful to those who are trying to determine who needs aid the most. "
   ]
  },
  {
   "cell_type": "markdown",
   "metadata": {},
   "source": [
    "#### Sources:\n",
    "- Data: [Costa Rican Household Poverty Level Prediction (Kaggle)](https://www.kaggle.com/c/costa-rican-household-poverty-prediction)\n",
    "- Tyler's Lectures: [Naive Bayes](https://github.com/tfolkman/byu_econ_applied_machine_learning/blob/master/lectures/Lecture_7_Naive_Bayes.ipynb),\n",
    "[SVM](https://github.com/tfolkman/byu_econ_applied_machine_learning/blob/master/lectures/Lecture_8_SVM.ipynb),\n",
    "[Decision Tree](https://github.com/tfolkman/byu_econ_applied_machine_learning/blob/master/lectures/Lecture_9_Decision_Trees.ipynb), [Random Forest](https://github.com/tfolkman/byu_econ_applied_machine_learning/blob/master/lectures/Lecture_10_Random_Forest.ipynb), [Boosting](https://github.com/tfolkman/byu_econ_applied_machine_learning/blob/master/lectures/Lecture_11_Boosting.ipynb)\n",
    "- Helpful Kernal: [A Complete Itroduction and Walkthrough (Kaggle)](https://www.kaggle.com/willkoehrsen/a-complete-introduction-and-walkthrough)"
   ]
  }
 ],
 "metadata": {
  "kernelspec": {
   "display_name": "Python 3",
   "language": "python",
   "name": "python3"
  },
  "language_info": {
   "codemirror_mode": {
    "name": "ipython",
    "version": 3
   },
   "file_extension": ".py",
   "mimetype": "text/x-python",
   "name": "python",
   "nbconvert_exporter": "python",
   "pygments_lexer": "ipython3",
   "version": "3.6.5"
  }
 },
 "nbformat": 4,
 "nbformat_minor": 2
}

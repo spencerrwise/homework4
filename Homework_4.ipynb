{
 "cells": [
  {
   "cell_type": "markdown",
   "metadata": {},
   "source": [
    "# Homework 4"
   ]
  },
  {
   "cell_type": "markdown",
   "metadata": {},
   "source": [
    "### Costa Rican Household Poverty Level Prediction (Kaggle Competition)"
   ]
  },
  {
   "cell_type": "markdown",
   "metadata": {},
   "source": [
    "#### By: Spencer Wise"
   ]
  },
  {
   "cell_type": "markdown",
   "metadata": {},
   "source": [
    "The goal of the Costa Rican Household Poverty Level Prediction contest is to develop a machine learning model that can predict the poverty level of households using both individual and household characteristics. Many social programs have a hard time making sure the right people are given the right amount of aid, and it’s especially tricky when a program focuses on the poorest segment of the population. The world’s poorest typically can’t provide the necessary income and expense records to prove that they qualify.  Costa Rica is just one of many countries that faces this same problem of assessing social need.\n",
    "\n",
    "In this notebook, we will do our best to come up with a complete machine learning solution to this problem. First, we will get introduced to the problem, then explore the dataset, clean the dataset, work on feature engineering, try out multiple machine learning models, select a model, work to optimize the model, and finally, inspect the outputs of the model and draw conclusions."
   ]
  },
  {
   "cell_type": "markdown",
   "metadata": {},
   "source": [
    "### Data Overview and Problem"
   ]
  },
  {
   "cell_type": "markdown",
   "metadata": {},
   "source": [
    "The data for this competition is provided in a training set file and a test set file: `train.csv` and `test.csv`. The training set has 9557 rows and 143 columns, and the testing set has 23856 rows and 142 columns. Each row represents one individual and each column is a feature, either unique to the individual, or for the household of that individual. The training set has one additional column, `Target`, which represents the poverty level on a scale from 1-4. A value of 1 is the most extreme poverty, while a value of 4 represents non vulnerable households. This is a multi-class classification machine learning problem with 4 classes."
   ]
  },
  {
   "cell_type": "markdown",
   "metadata": {},
   "source": [
    "### Objective"
   ]
  },
  {
   "cell_type": "markdown",
   "metadata": {},
   "source": [
    "The objective is to predict poverty on a household level. We are given data on the individual level with each individual having unique features but also information about their household. In order to create a dataset for the task, we'll have to perform some aggregations of the individual data for each household. Moreover, we have to make a prediction for every individual in the test set, but \"ONLY the heads of household are used in scoring\" which means we want to predict poverty on a household basis."
   ]
  },
  {
   "cell_type": "markdown",
   "metadata": {},
   "source": [
    "To begin, let's start by importing the necessary packages and reading in the data!"
   ]
  },
  {
   "cell_type": "markdown",
   "metadata": {},
   "source": [
    "### Module Imports\n",
    "We'll use a familiar stack of data science libraries: `Pandas` , `numpy`, `matplotlib`, `seaborn`, and `sklearn` for modeling."
   ]
  },
  {
   "cell_type": "code",
   "execution_count": 29,
   "metadata": {},
   "outputs": [],
   "source": [
    "# Pandas for data loading, manipulation etc.\n",
    "import pandas as pd\n",
    "\n",
    "# Numeric functions\n",
    "import numpy as np\n",
    "from scipy import stats\n",
    "from scipy.stats import norm\n",
    "from collections import OrderedDict\n",
    "\n",
    "# Plotting and visualization\n",
    "import matplotlib.pyplot as plt\n",
    "import seaborn as sns\n",
    "\n",
    "# Plotting defaults\n",
    "%matplotlib inline\n",
    "plt.style.use('fivethirtyeight')\n",
    "\n",
    "# Other Packages\n",
    "import warnings\n",
    "warnings.filterwarnings('ignore')"
   ]
  },
  {
   "cell_type": "markdown",
   "metadata": {},
   "source": [
    "### Load Data"
   ]
  },
  {
   "cell_type": "markdown",
   "metadata": {},
   "source": [
    "Here we are going to first load the training and test datasets into pandas dataframes."
   ]
  },
  {
   "cell_type": "code",
   "execution_count": 3,
   "metadata": {},
   "outputs": [],
   "source": [
    "# Loading datasets into separate pandas dataframes\n",
    "train = pd.read_csv(r\"C:\\Users\\Spencer\\Dropbox\\School\\Fall 2018\\Machine Learning\\Projects\\Homework_4\\train.csv\", encoding=\"latin1\")\n",
    "test = pd.read_csv(r\"C:\\Users\\Spencer\\Dropbox\\School\\Fall 2018\\Machine Learning\\Projects\\Homework_4\\test.csv\", encoding=\"latin1\")"
   ]
  },
  {
   "cell_type": "code",
   "execution_count": 8,
   "metadata": {},
   "outputs": [
    {
     "name": "stdout",
     "output_type": "stream",
     "text": [
      "(9557, 143)\n",
      "(23856, 142)\n"
     ]
    }
   ],
   "source": [
    "# Print the shape of the test and training datasets\n",
    "print(train.shape)\n",
    "print(test.shape)"
   ]
  },
  {
   "cell_type": "markdown",
   "metadata": {},
   "source": [
    "One interesting thing to note right off the bat is that the training dataset has one more column than the test dataset. That is because the train dataset includes our target value). Let's take a closer look by previewing our training data."
   ]
  },
  {
   "cell_type": "code",
   "execution_count": 16,
   "metadata": {},
   "outputs": [
    {
     "data": {
      "text/html": [
       "<div>\n",
       "<style scoped>\n",
       "    .dataframe tbody tr th:only-of-type {\n",
       "        vertical-align: middle;\n",
       "    }\n",
       "\n",
       "    .dataframe tbody tr th {\n",
       "        vertical-align: top;\n",
       "    }\n",
       "\n",
       "    .dataframe thead th {\n",
       "        text-align: right;\n",
       "    }\n",
       "</style>\n",
       "<table border=\"1\" class=\"dataframe\">\n",
       "  <thead>\n",
       "    <tr style=\"text-align: right;\">\n",
       "      <th></th>\n",
       "      <th>Id</th>\n",
       "      <th>v2a1</th>\n",
       "      <th>hacdor</th>\n",
       "      <th>rooms</th>\n",
       "      <th>hacapo</th>\n",
       "      <th>v14a</th>\n",
       "      <th>refrig</th>\n",
       "      <th>v18q</th>\n",
       "      <th>v18q1</th>\n",
       "      <th>r4h1</th>\n",
       "      <th>...</th>\n",
       "      <th>SQBescolari</th>\n",
       "      <th>SQBage</th>\n",
       "      <th>SQBhogar_total</th>\n",
       "      <th>SQBedjefe</th>\n",
       "      <th>SQBhogar_nin</th>\n",
       "      <th>SQBovercrowding</th>\n",
       "      <th>SQBdependency</th>\n",
       "      <th>SQBmeaned</th>\n",
       "      <th>agesq</th>\n",
       "      <th>Target</th>\n",
       "    </tr>\n",
       "  </thead>\n",
       "  <tbody>\n",
       "    <tr>\n",
       "      <th>0</th>\n",
       "      <td>ID_279628684</td>\n",
       "      <td>190000.0</td>\n",
       "      <td>0</td>\n",
       "      <td>3</td>\n",
       "      <td>0</td>\n",
       "      <td>1</td>\n",
       "      <td>1</td>\n",
       "      <td>0</td>\n",
       "      <td>NaN</td>\n",
       "      <td>0</td>\n",
       "      <td>...</td>\n",
       "      <td>100</td>\n",
       "      <td>1849</td>\n",
       "      <td>1</td>\n",
       "      <td>100</td>\n",
       "      <td>0</td>\n",
       "      <td>1.000000</td>\n",
       "      <td>0.0</td>\n",
       "      <td>100.0</td>\n",
       "      <td>1849</td>\n",
       "      <td>4</td>\n",
       "    </tr>\n",
       "    <tr>\n",
       "      <th>1</th>\n",
       "      <td>ID_f29eb3ddd</td>\n",
       "      <td>135000.0</td>\n",
       "      <td>0</td>\n",
       "      <td>4</td>\n",
       "      <td>0</td>\n",
       "      <td>1</td>\n",
       "      <td>1</td>\n",
       "      <td>1</td>\n",
       "      <td>1.0</td>\n",
       "      <td>0</td>\n",
       "      <td>...</td>\n",
       "      <td>144</td>\n",
       "      <td>4489</td>\n",
       "      <td>1</td>\n",
       "      <td>144</td>\n",
       "      <td>0</td>\n",
       "      <td>1.000000</td>\n",
       "      <td>64.0</td>\n",
       "      <td>144.0</td>\n",
       "      <td>4489</td>\n",
       "      <td>4</td>\n",
       "    </tr>\n",
       "    <tr>\n",
       "      <th>2</th>\n",
       "      <td>ID_68de51c94</td>\n",
       "      <td>NaN</td>\n",
       "      <td>0</td>\n",
       "      <td>8</td>\n",
       "      <td>0</td>\n",
       "      <td>1</td>\n",
       "      <td>1</td>\n",
       "      <td>0</td>\n",
       "      <td>NaN</td>\n",
       "      <td>0</td>\n",
       "      <td>...</td>\n",
       "      <td>121</td>\n",
       "      <td>8464</td>\n",
       "      <td>1</td>\n",
       "      <td>0</td>\n",
       "      <td>0</td>\n",
       "      <td>0.250000</td>\n",
       "      <td>64.0</td>\n",
       "      <td>121.0</td>\n",
       "      <td>8464</td>\n",
       "      <td>4</td>\n",
       "    </tr>\n",
       "    <tr>\n",
       "      <th>3</th>\n",
       "      <td>ID_d671db89c</td>\n",
       "      <td>180000.0</td>\n",
       "      <td>0</td>\n",
       "      <td>5</td>\n",
       "      <td>0</td>\n",
       "      <td>1</td>\n",
       "      <td>1</td>\n",
       "      <td>1</td>\n",
       "      <td>1.0</td>\n",
       "      <td>0</td>\n",
       "      <td>...</td>\n",
       "      <td>81</td>\n",
       "      <td>289</td>\n",
       "      <td>16</td>\n",
       "      <td>121</td>\n",
       "      <td>4</td>\n",
       "      <td>1.777778</td>\n",
       "      <td>1.0</td>\n",
       "      <td>121.0</td>\n",
       "      <td>289</td>\n",
       "      <td>4</td>\n",
       "    </tr>\n",
       "    <tr>\n",
       "      <th>4</th>\n",
       "      <td>ID_d56d6f5f5</td>\n",
       "      <td>180000.0</td>\n",
       "      <td>0</td>\n",
       "      <td>5</td>\n",
       "      <td>0</td>\n",
       "      <td>1</td>\n",
       "      <td>1</td>\n",
       "      <td>1</td>\n",
       "      <td>1.0</td>\n",
       "      <td>0</td>\n",
       "      <td>...</td>\n",
       "      <td>121</td>\n",
       "      <td>1369</td>\n",
       "      <td>16</td>\n",
       "      <td>121</td>\n",
       "      <td>4</td>\n",
       "      <td>1.777778</td>\n",
       "      <td>1.0</td>\n",
       "      <td>121.0</td>\n",
       "      <td>1369</td>\n",
       "      <td>4</td>\n",
       "    </tr>\n",
       "  </tbody>\n",
       "</table>\n",
       "<p>5 rows × 143 columns</p>\n",
       "</div>"
      ],
      "text/plain": [
       "             Id      v2a1  hacdor  rooms  hacapo  v14a  refrig  v18q  v18q1  \\\n",
       "0  ID_279628684  190000.0       0      3       0     1       1     0    NaN   \n",
       "1  ID_f29eb3ddd  135000.0       0      4       0     1       1     1    1.0   \n",
       "2  ID_68de51c94       NaN       0      8       0     1       1     0    NaN   \n",
       "3  ID_d671db89c  180000.0       0      5       0     1       1     1    1.0   \n",
       "4  ID_d56d6f5f5  180000.0       0      5       0     1       1     1    1.0   \n",
       "\n",
       "   r4h1   ...    SQBescolari  SQBage  SQBhogar_total  SQBedjefe  SQBhogar_nin  \\\n",
       "0     0   ...            100    1849               1        100             0   \n",
       "1     0   ...            144    4489               1        144             0   \n",
       "2     0   ...            121    8464               1          0             0   \n",
       "3     0   ...             81     289              16        121             4   \n",
       "4     0   ...            121    1369              16        121             4   \n",
       "\n",
       "   SQBovercrowding  SQBdependency  SQBmeaned  agesq  Target  \n",
       "0         1.000000            0.0      100.0   1849       4  \n",
       "1         1.000000           64.0      144.0   4489       4  \n",
       "2         0.250000           64.0      121.0   8464       4  \n",
       "3         1.777778            1.0      121.0    289       4  \n",
       "4         1.777778            1.0      121.0   1369       4  \n",
       "\n",
       "[5 rows x 143 columns]"
      ]
     },
     "execution_count": 16,
     "metadata": {},
     "output_type": "execute_result"
    }
   ],
   "source": [
    "# Preview the data\n",
    "train.head()"
   ]
  },
  {
   "cell_type": "markdown",
   "metadata": {},
   "source": [
    "### Analyze the Target"
   ]
  },
  {
   "cell_type": "markdown",
   "metadata": {},
   "source": [
    "The first thing that we want to do is identify and analyze the target. In this case, our target is the `Target` column (which represents the poverty level on a scale from 1-4) as it is the variable that we will be trying to predict."
   ]
  },
  {
   "cell_type": "code",
   "execution_count": 19,
   "metadata": {},
   "outputs": [
    {
     "data": {
      "text/plain": [
       "count    9557.000000\n",
       "mean        3.302292\n",
       "std         1.009565\n",
       "min         1.000000\n",
       "25%         3.000000\n",
       "50%         4.000000\n",
       "75%         4.000000\n",
       "max         4.000000\n",
       "Name: Target, dtype: float64"
      ]
     },
     "execution_count": 19,
     "metadata": {},
     "output_type": "execute_result"
    }
   ],
   "source": [
    "# Descriptive summary of Target data\n",
    "target = train['Target']\n",
    "target.describe()"
   ]
  },
  {
   "cell_type": "markdown",
   "metadata": {},
   "source": [
    "The next thing we'll want to do is get an idea of the distribution of the `Target` classes."
   ]
  },
  {
   "cell_type": "code",
   "execution_count": null,
   "metadata": {},
   "outputs": [],
   "source": []
  },
  {
   "cell_type": "markdown",
   "metadata": {},
   "source": [
    "## Learn the Data"
   ]
  },
  {
   "cell_type": "markdown",
   "metadata": {},
   "source": [
    "Now that we've corrected our target variable, we'll want to learn as much as we can about the data. The things that we will focus on are:\n",
    "\n",
    "- Knowing which variables are the core variables in the dataset\n",
    "- Knowing the rest of the variables in the dataset\n",
    "- Knowing what is correlated\n",
    "- Knowing if there are missing variables\n",
    "\n",
    "**Core Data**\n",
    "\n",
    "Because the data contains 142 total variables, we'll focus on learning as much as we can about the core data fields outlined by the Inter-American Development Bank. The core variables are:"
   ]
  },
  {
   "cell_type": "markdown",
   "metadata": {},
   "source": [
    "- `Id`: a unique identifier for each row.\n",
    "- `Target`: the target is an ordinal variable indicating groups of income levels. \n",
    "    - 1 = extreme poverty \n",
    "    - 2 = moderate poverty \n",
    "    - 3 = vulnerable households \n",
    "    - 4 = non vulnerable households\n",
    "- `idhogar`: this is a unique identifier for each household. This can be used to create household-wide features, etc. All rows in a given household will have a matching value for this identifier.\n",
    "- `parentesco1`: indicates if this person is the head of the household.\n",
    "\n",
    "**Rest of Variables and Description**\n",
    "\n",
    "- `v2a1`, Monthly rent payment\n",
    "- `hacdor`, =1 Overcrowding by bedrooms\n",
    "- `rooms`,  number of all rooms in the house\n",
    "- `hacapo`, =1 Overcrowding by rooms\n",
    "- `v14a`, =1 has bathroom in the household\n",
    "- `refrig`, =1 if the household has refrigerator\n",
    "- `v18q`, owns a tablet\n",
    "- `v18q1`, number of tablets household owns\n",
    "- `r4h1`, Males younger than 12 years of age\n",
    "- `r4h2`, Males 12 years of age and older\n",
    "- `r4h3`, Total males in the household\n",
    "- `r4m1`, Females younger than 12 years of age\n",
    "- `r4m2`, Females 12 years of age and older\n",
    "- `r4m3`, Total females in the household\n",
    "- `r4t1`, persons younger than 12 years of age\n",
    "- `r4t2`, persons 12 years of age and older\n",
    "- `r4t3`, Total persons in the household\n",
    "- `tamhog`, size of the household\n",
    "- `tamviv`, number of persons living in the household\n",
    "- `escolari`, years of schooling\n",
    "- `rez_esc`, Years behind in school\n",
    "- `hhsize`, household size\n",
    "- `paredblolad`, =1 if predominant material on the outside wall is block or brick\n",
    "- `paredzocalo`, \"=1 if predominant material on the outside wall is socket (wood,  zinc or absbesto\"\n",
    "- `paredpreb`, =1 if predominant material on the outside wall is prefabricated or cement\n",
    "- `pareddes`, =1 if predominant material on the outside wall is waste material\n",
    "- `paredmad`, =1 if predominant material on the outside wall is wood\n",
    "- `paredzinc`, =1 if predominant material on the outside wall is zink\n",
    "- `paredfibras`, =1 if predominant material on the outside wall is natural fibers\n",
    "- `paredother`, =1 if predominant material on the outside wall is other\n",
    "- `pisomoscer`, \"=1 if predominant material on the floor is mosaic,  ceramic,  terrazo\"\n",
    "- `pisocemento`, =1 if predominant material on the floor is cement\n",
    "- `pisoother`, =1 if predominant material on the floor is other\n",
    "- `pisonatur`, =1 if predominant material on the floor is  natural material\n",
    "- `pisonotiene`, =1 if no floor at the household\n",
    "- `pisomadera`, =1 if predominant material on the floor is wood\n",
    "- `techozinc`, =1 if predominant material on the roof is metal foil or zink\n",
    "- `techoentrepiso`, \"=1 if predominant material on the roof is fiber cement,  mezzanine \"\n",
    "- `techocane`, =1 if predominant material on the roof is natural fibers\n",
    "- `techootro`, =1 if predominant material on the roof is other\n",
    "- `cielorazo`, =1 if the house has ceiling\n",
    "- `abastaguadentro`, =1 if water provision inside the dwelling\n",
    "- `abastaguafuera`, =1 if water provision outside the dwelling\n",
    "- `abastaguano`, =1 if no water provision\n",
    "- `public`, \"=1 electricity from CNFL,  ICE,  ESPH/JASEC\"\n",
    "- `planpri`, =1 electricity from private plant\n",
    "- `noelec`, =1 no electricity in the dwelling\n",
    "- `coopele`, =1 electricity from cooperative\n",
    "- `sanitario1`, =1 no toilet in the dwelling\n",
    "- `sanitario2`, =1 toilet connected to sewer or cesspool\n",
    "- `sanitario3`, =1 toilet connected to  septic tank\n",
    "- `sanitario5`, =1 toilet connected to black hole or letrine\n",
    "- `sanitario6`, =1 toilet connected to other system\n",
    "- `energcocinar1`, =1 no main source of energy used for cooking (no kitchen)\n",
    "- `energcocinar2`, =1 main source of energy used for cooking electricity\n",
    "- `energcocinar3`, =1 main source of energy used for cooking gas\n",
    "- `energcocinar4`, =1 main source of energy used for cooking wood charcoal\n",
    "- `elimbasu1`, =1 if rubbish disposal mainly by tanker truck\n",
    "- `elimbasu2`, =1 if rubbish disposal mainly by botan hollow or buried\n",
    "- `elimbasu3`, =1 if rubbish disposal mainly by burning\n",
    "- `elimbasu4`, =1 if rubbish disposal mainly by throwing in an unoccupied space\n",
    "- `elimbasu5`, \"=1 if rubbish disposal mainly by throwing in river,  creek or sea\"\n",
    "- `elimbasu6`, =1 if rubbish disposal mainly other\n",
    "- `epared1`, =1 if walls are bad\n",
    "- `epared2`, =1 if walls are regular\n",
    "- `epared3`, =1 if walls are good\n",
    "- `etecho1`, =1 if roof are bad\n",
    "- `etecho2`, =1 if roof are regular\n",
    "- `etecho3`, =1 if roof are good\n",
    "- `eviv1`, =1 if floor are bad\n",
    "- `eviv2`, =1 if floor are regular\n",
    "- `eviv3`, =1 if floor are good\n",
    "- `dis`, =1 if disable person\n",
    "- `male`, =1 if male\n",
    "- `female`, =1 if female\n",
    "- `estadocivil1`, =1 if less than 10 years old\n",
    "- `estadocivil2`, =1 if free or coupled uunion\n",
    "- `estadocivil3`, =1 if married\n",
    "- `estadocivil4`, =1 if divorced\n",
    "- `estadocivil5`, =1 if separated\n",
    "- `estadocivil6`, =1 if widow/er\n",
    "- `estadocivil7`, =1 if single\n",
    "- `parentesco1`, =1 if household head\n",
    "- `parentesco2`, =1 if spouse/partner\n",
    "- `parentesco3`, =1 if son/doughter\n",
    "- `parentesco4`, =1 if stepson/doughter\n",
    "- `parentesco5`, =1 if son/doughter in law\n",
    "- `parentesco6`, =1 if grandson/doughter\n",
    "- `parentesco7`, =1 if mother/father\n",
    "- `parentesco8`, =1 if father/mother in law\n",
    "- `parentesco9`, =1 if brother/sister\n",
    "- `parentesco10`, =1 if brother/sister in law\n",
    "- `parentesco11`, =1 if other family member\n",
    "- `parentesco12`, =1 if other non family member\n",
    "- `idhogar`, Household level identifier\n",
    "- `hogar_nin`, Number of children 0 to 19 in household\n",
    "- `hogar_adul`, Number of adults in household\n",
    "- `hogar_mayor`, # of individuals 65+ in the household\n",
    "- `hogar_total`, # of total individuals in the household\n",
    "- `dependency`, Dependency rate, calculated = (number of members of the household younger than 19 or older than 64)/(number of member of household between 19 and 64)\n",
    "- `edjefe`, years of education of male head of household, based on the interaction of escolari (years of education), head of household and gender, yes=1 and no=0\n",
    "- `edjefa`, years of education of female head of household, based on the interaction of escolari (years of education), head of household and gender, yes=1 and no=0\n",
    "- `meaneduc`,average years of education for adults (18+)\n",
    "- `instlevel1`, =1 no level of education\n",
    "- `instlevel2`, =1 incomplete primary\n",
    "- `instlevel3`, =1 complete primary\n",
    "- `instlevel4`, =1 incomplete academic secondary level\n",
    "- `instlevel5`, =1 complete academic secondary level\n",
    "- `instlevel6`, =1 incomplete technical secondary level\n",
    "- `instlevel7`, =1 complete technical secondary level\n",
    "- `instlevel8`, =1 undergraduate and higher education\n",
    "- `instlevel9`, =1 postgraduate higher education\n",
    "- `bedrooms`, number of bedrooms\n",
    "- `overcrowding`, # persons per room\n",
    "- `tipovivi1`, =1 own and fully paid house\n",
    "- `tipovivi2`, \"=1 own,  paying in installments\"\n",
    "- `tipovivi3`, =1 rented\n",
    "- `tipovivi4`, =1 precarious\n",
    "- `tipovivi5`, \"=1 other(assigned,  borrowed)\"\n",
    "- `computer`, =1 if the household has notebook or desktop computer\n",
    "- `television`, =1 if the household has TV\n",
    "- `mobilephone`, =1 if mobile phone\n",
    "- `qmobilephone`, # of mobile phones\n",
    "- `lugar1`, =1 region Central\n",
    "- `lugar2`, =1 region Chorotega\n",
    "- `lugar3`, =1 region PacÃƒÂ­fico central\n",
    "- `lugar4`, =1 region Brunca\n",
    "- `lugar5`, =1 region Huetar AtlÃƒÂ¡ntica\n",
    "- `lugar6`, =1 region Huetar Norte\n",
    "- `area1`, =1 zona urbana\n",
    "- `area2`, =2 zona rural\n",
    "- `age`, Age in years\n",
    "- `SQBescolari`, escolari squared\n",
    "- `SQBage`, age squared\n",
    "- `SQBhogar_total`, hogar_total squared\n",
    "- `SQBedjefe`, edjefe squared\n",
    "- `SQBhogar_nin`, hogar_nin squared\n",
    "- `SQBovercrowding`, overcrowding squared\n",
    "- `SQBdependency`, dependency squared\n",
    "- `SQBmeaned`, square of the mean years of education of adults (>=18) in the household\n",
    "- `agesq`, Age squared"
   ]
  },
  {
   "cell_type": "markdown",
   "metadata": {},
   "source": [
    "## Clean Data"
   ]
  },
  {
   "cell_type": "markdown",
   "metadata": {},
   "source": [
    "### Outliers"
   ]
  },
  {
   "cell_type": "markdown",
   "metadata": {},
   "source": [
    "I had a look into train and test set, it turned out there is only one outlier value rez_esc in test set, and acorrding to the [answer](https://www.kaggle.com/c/costa-rican-household-poverty-prediction/discussion/61403) from competition host, we can safely change the value to 5."
   ]
  },
  {
   "cell_type": "code",
   "execution_count": 34,
   "metadata": {},
   "outputs": [],
   "source": [
    "# Outlier in test set which rez_esc is 99.0\n",
    "test[['rez_esc'] == 99.0 , 'rez_esc'] = 5"
   ]
  },
  {
   "cell_type": "markdown",
   "metadata": {},
   "source": [
    "### Missing Values"
   ]
  },
  {
   "cell_type": "code",
   "execution_count": 20,
   "metadata": {},
   "outputs": [
    {
     "name": "stdout",
     "output_type": "stream",
     "text": [
      "Top Columns having missing values\n"
     ]
    },
    {
     "data": {
      "text/html": [
       "<div>\n",
       "<style scoped>\n",
       "    .dataframe tbody tr th:only-of-type {\n",
       "        vertical-align: middle;\n",
       "    }\n",
       "\n",
       "    .dataframe tbody tr th {\n",
       "        vertical-align: top;\n",
       "    }\n",
       "\n",
       "    .dataframe thead th {\n",
       "        text-align: right;\n",
       "    }\n",
       "</style>\n",
       "<table border=\"1\" class=\"dataframe\">\n",
       "  <thead>\n",
       "    <tr style=\"text-align: right;\">\n",
       "      <th></th>\n",
       "      <th>0</th>\n",
       "    </tr>\n",
       "  </thead>\n",
       "  <tbody>\n",
       "    <tr>\n",
       "      <th>rez_esc</th>\n",
       "      <td>7928</td>\n",
       "    </tr>\n",
       "    <tr>\n",
       "      <th>v18q1</th>\n",
       "      <td>7342</td>\n",
       "    </tr>\n",
       "    <tr>\n",
       "      <th>v2a1</th>\n",
       "      <td>6860</td>\n",
       "    </tr>\n",
       "    <tr>\n",
       "      <th>SQBmeaned</th>\n",
       "      <td>5</td>\n",
       "    </tr>\n",
       "    <tr>\n",
       "      <th>meaneduc</th>\n",
       "      <td>5</td>\n",
       "    </tr>\n",
       "  </tbody>\n",
       "</table>\n",
       "</div>"
      ],
      "text/plain": [
       "              0\n",
       "rez_esc    7928\n",
       "v18q1      7342\n",
       "v2a1       6860\n",
       "SQBmeaned     5\n",
       "meaneduc      5"
      ]
     },
     "execution_count": 20,
     "metadata": {},
     "output_type": "execute_result"
    }
   ],
   "source": [
    "print (\"Top Columns having missing values\")\n",
    "missmap = train.isnull().sum().to_frame().sort_values(0, ascending = False)\n",
    "missmap.head()"
   ]
  },
  {
   "cell_type": "code",
   "execution_count": null,
   "metadata": {},
   "outputs": [],
   "source": []
  }
 ],
 "metadata": {
  "kernelspec": {
   "display_name": "Python 3",
   "language": "python",
   "name": "python3"
  },
  "language_info": {
   "codemirror_mode": {
    "name": "ipython",
    "version": 3
   },
   "file_extension": ".py",
   "mimetype": "text/x-python",
   "name": "python",
   "nbconvert_exporter": "python",
   "pygments_lexer": "ipython3",
   "version": "3.6.5"
  }
 },
 "nbformat": 4,
 "nbformat_minor": 2
}
